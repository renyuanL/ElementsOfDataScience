{
 "cells": [
  {
   "cell_type": "markdown",
   "metadata": {},
   "source": [
    "# Dataframes\n",
    "\n",
    "Elements of Data Science\n",
    "\n",
    "by [Allen Downey](https://allendowney.com)\n",
    "\n",
    "[MIT License](https://opensource.org/licenses/MIT)\n",
    "\n",
    "### Goals\n",
    "\n",
    "This notebook introduces Pandas, which is a powerful library for working with data.  Pandas provides functions for reading data from files, and it provides two new types for working with data, DataFrames and Series.\n",
    "\n",
    "We'll use these tools to estimate the average birth weight of babies in the U.S.  This example demonstrates the important steps in almost any data science project:\n",
    "\n",
    "1. Identifying data that can answer a question.\n",
    "\n",
    "2. Obtaining the data and loading it in Python.\n",
    "\n",
    "3. Checking the data and dealing with errors.\n",
    "\n",
    "4. Selecting the relevant subsets from the data.\n",
    "\n",
    "5. Using histograms to visualize a distribution of values.\n",
    "\n",
    "6. Using summary statistics to describe the data in a way that best answers the question.\n",
    "\n",
    "7. Considering possible sources of error and limitations in our conclusions.\n",
    "\n",
    "Because this notebook presents a data science project from end to end, it is a little longer than some of the previous notebooks.  So, hang in there!\n",
    "\n",
    "----\n",
    "\n",
    "# Dataframes \n",
    "\n",
    "數據科學的要素\n",
    "\n",
    "作者： 艾倫唐尼\n",
    "\n",
    "麻省理工學院執照\n",
    "\n",
    "### Goals\n",
    "\n",
    "該筆記本介紹了Pandas，Pandas是用於處理數據的強大庫。Pandas提供了從文件讀取數據的功能，並提供了兩種用於處理數據的新類型：DataFrame和Series。\n",
    "\n",
    "我們將使用這些工具來估算美國嬰兒的平均出生體重。該示例演示了幾乎所有數據科學項目中的重要步驟：\n",
    "\n",
    "1. 識別可以回答問題的數據。\n",
    "1. 獲取數據並將其加載到Python中。\n",
    "1. 檢查數據並處理錯誤。\n",
    "1. 從數據中選擇相關子集。\n",
    "1. 使用直方圖可視化值的分佈。\n",
    "1. 使用摘要統計信息以最能回答問題的方式描述數據。\n",
    "1. 在我們的結論中考慮可能的錯誤來源和局限性。\n",
    "\n",
    "由於此筆記本從頭到尾都提供了一個數據科學項目，因此它比以前的某些筆記本要長一些。所以，掛在那裡！"
   ]
  },
  {
   "cell_type": "markdown",
   "metadata": {},
   "source": [
    "# DataFrames and Series\n",
    "\n",
    "The fundamental goal of data science is to use data to answer questions and guide decision making.\n",
    "\n",
    "As an example, we'll start with a simple question: what is the average birth weight of babies in the United States?\n",
    "\n",
    "To answer a question like this, we have to find an appropriate dataset or run an experiment to collect it.  Then we have to get the data into our development environment and prepare it for analysis, which involves cleaning and validation.\n",
    "\n",
    "For this question we'll use data from the [National Survey of Family Growth](https://www.cdc.gov/nchs/nsfg/index.htm), which is available from the National Center for Health Statistics.\n",
    "\n",
    "Their 2013-2015 dataset includes information about a sample of women in the U.S. and their children.  \n",
    "\n",
    "The Python library we'll use to read and analyze data is Pandas, which we'll import as `pd`.\n",
    "\n",
    "----\n",
    "\n",
    "# 數據框　和　系列\n",
    "\n",
    "\n",
    "數據科學的基本目標是使用 `數據` `回答問題` 並 `指導決策`。\n",
    "\n",
    "例如，我們將從一個簡單的問題開始：\n",
    "\n",
    "\n",
    "- 在美國，嬰兒的【平均出生體重】是多少？\n",
    "\n",
    "\n",
    "為了回答這樣的問題，我們必須找到合適的數據集或進行實驗以收集它。然後，我們必須將數據放入我們的開發環境中，並準備進行分析，其中涉及清理和驗證。\n",
    "\n",
    "對於這個問題，我們將使用國家健康統計中心提供的國家家庭成長調查數據。\n",
    "\n",
    "他們的2013-2015年數據集包含有關美國女性及其子女的樣本信息。\n",
    "\n",
    "我們將用於讀取和分析數據的Python庫是Pandas，我們將其導入為pd。\n"
   ]
  },
  {
   "cell_type": "code",
   "execution_count": 1,
   "metadata": {},
   "outputs": [],
   "source": [
    "import pandas as pd"
   ]
  },
  {
   "cell_type": "markdown",
   "metadata": {},
   "source": [
    "Pandas can read data in most common formats, including CSV, Excel, and the format the NSFG data is in, HDF5.  [You can read about HDF here](https://en.wikipedia.org/wiki/Hierarchical_Data_Format).\n",
    "\n",
    "----\n",
    "\n",
    "熊貓可以讀取最常見的格式的數據，包括CSV，Excel和NSFG數據所使用的格式HDF5。 您可以在此處閱讀有關HDF的信息。\n"
   ]
  },
  {
   "cell_type": "code",
   "execution_count": 2,
   "metadata": {},
   "outputs": [],
   "source": [
    "import os\n",
    "\n",
    "if not os.path.exists('nsfg.hdf5'):\n",
    "    !wget https://github.com/AllenDowney/ElementsOfDataScience/raw/master/nsfg.hdf5"
   ]
  },
  {
   "cell_type": "code",
   "execution_count": 3,
   "metadata": {},
   "outputs": [
    {
     "data": {
      "text/plain": [
       "pandas.core.frame.DataFrame"
      ]
     },
     "execution_count": 3,
     "metadata": {},
     "output_type": "execute_result"
    }
   ],
   "source": [
    "nsfg = pd.read_hdf('nsfg.hdf5')\n",
    "type(nsfg)"
   ]
  },
  {
   "cell_type": "markdown",
   "metadata": {},
   "source": [
    "The result from `read_hdf()` is a DataFrame, which is the primary type Pandas uses to store data.\n",
    "\n",
    "For each woman who participated in the survey, this DataFrame has one row for each pregnancy and one column for each survey question.\n",
    "\n",
    "DataFrame has a method called `head()` that shows the first 5 rows:\n",
    "\n",
    "----\n",
    "\n",
    "結果來自read_hdf()一個DataFrame，這是Pandas用於存儲數據的主要類型。\n",
    "\n",
    "對於每個參與調查的女性，此DataFrame每次懷孕都有一行，而每個調查問題都有一欄。\n",
    "\n",
    "DataFrame有一個名為的方法head()，它顯示前5行：\n",
    "\n",
    "----\n",
    "\n",
    "### 【ry註解】: \n",
    "\n",
    "這整篇的翻譯中，　\n",
    "凡是　row 都翻譯為【行】，\n",
    "凡是　column 都翻譯為　【列】。\n",
    "這恰好與台灣學生高中數學的習慣相反，請注意一下！！\n",
    "\n",
    "事實上\n",
    "row, column = 【行】【列】，\n",
    "日本與中國這兩個使用漢字的大國皆是如此翻譯。\n",
    "\n",
    "[/]:# (\n",
    "    唯獨台灣【在國民黨主政的年代】，刻意要【仇日】及【反共】，\n",
    "    因此刻意與他們兩國的漢字用法不同，為反對而反對所造成的結果。\n",
    "    使得台灣的學生今日在看wikipedia 或使用　google 翻譯時，\n",
    "    會得到混淆的結果。)\n",
    "\n",
    "----\n",
    "\n",
    "### 「m-by-n matrix」的各地常用別名\n",
    "\n",
    "- 中國\tm行　n列　矩陣\n",
    "- 日本\tm行　n列　矩陣\n",
    "- 臺灣\tm列　n行　矩陣\n",
    "\n",
    "----\n",
    "\n",
    "行列\n",
    "出典: フリー百科事典『ウィキペディア（Wikipedia）』\n",
    "\n",
    "数学の線型代数学周辺分野における行列（ぎょうれつ、英: matrix）は、\n",
    "数や記号や式などを縦と横に矩形状に配列したものである。\n",
    "\n",
    "`横に並んだ一筋を行`、\n",
    "\n",
    "`縦に並んだ一筋を列と呼ぶ`。\n",
    "\n",
    "例えば、下記のような行列\n",
    "\n",
    "$\n",
    "{\\displaystyle {\\begin{bmatrix}1&9&-13\\\\20&5&-6\\end{bmatrix}}}\n",
    "$\n",
    "は\n",
    "\n",
    "`2つの行`と`3つの列`によって\n",
    "構成されているため、\n",
    "(2,3)型または\n",
    "2×3型の行列と呼ばれる。\n",
    "\n"
   ]
  },
  {
   "cell_type": "markdown",
   "metadata": {},
   "source": [
    "![image.png] (row_atGoogleTranslate.png)"
   ]
  },
  {
   "cell_type": "markdown",
   "metadata": {},
   "source": [
    "![image.png] (column_atGoogleTranslate.png)\n"
   ]
  },
  {
   "cell_type": "markdown",
   "metadata": {},
   "source": []
  },
  {
   "cell_type": "markdown",
   "metadata": {},
   "source": []
  },
  {
   "cell_type": "code",
   "execution_count": 4,
   "metadata": {},
   "outputs": [
    {
     "data": {
      "text/html": [
       "<div>\n",
       "<style scoped>\n",
       "    .dataframe tbody tr th:only-of-type {\n",
       "        vertical-align: middle;\n",
       "    }\n",
       "\n",
       "    .dataframe tbody tr th {\n",
       "        vertical-align: top;\n",
       "    }\n",
       "\n",
       "    .dataframe thead th {\n",
       "        text-align: right;\n",
       "    }\n",
       "</style>\n",
       "<table border=\"1\" class=\"dataframe\">\n",
       "  <thead>\n",
       "    <tr style=\"text-align: right;\">\n",
       "      <th></th>\n",
       "      <th>caseid</th>\n",
       "      <th>outcome</th>\n",
       "      <th>birthwgt_lb1</th>\n",
       "      <th>birthwgt_oz1</th>\n",
       "      <th>prglngth</th>\n",
       "      <th>nbrnaliv</th>\n",
       "      <th>agecon</th>\n",
       "      <th>agepreg</th>\n",
       "      <th>birthord</th>\n",
       "      <th>hpagelb</th>\n",
       "      <th>wgt2013_2015</th>\n",
       "    </tr>\n",
       "  </thead>\n",
       "  <tbody>\n",
       "    <tr>\n",
       "      <th>0</th>\n",
       "      <td>60418</td>\n",
       "      <td>1</td>\n",
       "      <td>5.0</td>\n",
       "      <td>4.0</td>\n",
       "      <td>40</td>\n",
       "      <td>1.0</td>\n",
       "      <td>2000</td>\n",
       "      <td>2075.0</td>\n",
       "      <td>1.0</td>\n",
       "      <td>22.0</td>\n",
       "      <td>3554.964843</td>\n",
       "    </tr>\n",
       "    <tr>\n",
       "      <th>1</th>\n",
       "      <td>60418</td>\n",
       "      <td>1</td>\n",
       "      <td>4.0</td>\n",
       "      <td>12.0</td>\n",
       "      <td>36</td>\n",
       "      <td>1.0</td>\n",
       "      <td>2291</td>\n",
       "      <td>2358.0</td>\n",
       "      <td>2.0</td>\n",
       "      <td>25.0</td>\n",
       "      <td>3554.964843</td>\n",
       "    </tr>\n",
       "    <tr>\n",
       "      <th>2</th>\n",
       "      <td>60418</td>\n",
       "      <td>1</td>\n",
       "      <td>5.0</td>\n",
       "      <td>4.0</td>\n",
       "      <td>36</td>\n",
       "      <td>1.0</td>\n",
       "      <td>3241</td>\n",
       "      <td>3308.0</td>\n",
       "      <td>3.0</td>\n",
       "      <td>52.0</td>\n",
       "      <td>3554.964843</td>\n",
       "    </tr>\n",
       "    <tr>\n",
       "      <th>3</th>\n",
       "      <td>60419</td>\n",
       "      <td>6</td>\n",
       "      <td>NaN</td>\n",
       "      <td>NaN</td>\n",
       "      <td>33</td>\n",
       "      <td>NaN</td>\n",
       "      <td>3650</td>\n",
       "      <td>NaN</td>\n",
       "      <td>NaN</td>\n",
       "      <td>NaN</td>\n",
       "      <td>2484.535358</td>\n",
       "    </tr>\n",
       "    <tr>\n",
       "      <th>4</th>\n",
       "      <td>60420</td>\n",
       "      <td>1</td>\n",
       "      <td>8.0</td>\n",
       "      <td>13.0</td>\n",
       "      <td>41</td>\n",
       "      <td>1.0</td>\n",
       "      <td>2191</td>\n",
       "      <td>2266.0</td>\n",
       "      <td>1.0</td>\n",
       "      <td>24.0</td>\n",
       "      <td>2903.782914</td>\n",
       "    </tr>\n",
       "  </tbody>\n",
       "</table>\n",
       "</div>"
      ],
      "text/plain": [
       "   caseid  outcome  birthwgt_lb1  birthwgt_oz1  prglngth  nbrnaliv  agecon  \\\n",
       "0   60418        1           5.0           4.0        40       1.0    2000   \n",
       "1   60418        1           4.0          12.0        36       1.0    2291   \n",
       "2   60418        1           5.0           4.0        36       1.0    3241   \n",
       "3   60419        6           NaN           NaN        33       NaN    3650   \n",
       "4   60420        1           8.0          13.0        41       1.0    2191   \n",
       "\n",
       "   agepreg  birthord  hpagelb  wgt2013_2015  \n",
       "0   2075.0       1.0     22.0   3554.964843  \n",
       "1   2358.0       2.0     25.0   3554.964843  \n",
       "2   3308.0       3.0     52.0   3554.964843  \n",
       "3      NaN       NaN      NaN   2484.535358  \n",
       "4   2266.0       1.0     24.0   2903.782914  "
      ]
     },
     "execution_count": 4,
     "metadata": {},
     "output_type": "execute_result"
    }
   ],
   "source": [
    "nsfg.head()"
   ]
  },
  {
   "cell_type": "markdown",
   "metadata": {},
   "source": [
    "把　nsfg 存成　excel 或　任何　文書編輯器可讀的 .csv 檔案，\n",
    "用　excel 把它打開瞧瞧。"
   ]
  },
  {
   "cell_type": "code",
   "execution_count": 5,
   "metadata": {},
   "outputs": [],
   "source": [
    "# nsfg.to_csv('ryNsfg.csv')\n",
    "# !dir *.csv"
   ]
  },
  {
   "cell_type": "markdown",
   "metadata": {},
   "source": [
    "![ryNsfg.csv](ryNsfg.csv.png)\n",
    "\n"
   ]
  },
  {
   "cell_type": "code",
   "execution_count": 6,
   "metadata": {},
   "outputs": [
    {
     "data": {
      "text/html": [
       "<div>\n",
       "<style scoped>\n",
       "    .dataframe tbody tr th:only-of-type {\n",
       "        vertical-align: middle;\n",
       "    }\n",
       "\n",
       "    .dataframe tbody tr th {\n",
       "        vertical-align: top;\n",
       "    }\n",
       "\n",
       "    .dataframe thead th {\n",
       "        text-align: right;\n",
       "    }\n",
       "</style>\n",
       "<table border=\"1\" class=\"dataframe\">\n",
       "  <thead>\n",
       "    <tr style=\"text-align: right;\">\n",
       "      <th></th>\n",
       "      <th>caseid</th>\n",
       "      <th>outcome</th>\n",
       "      <th>birthwgt_lb1</th>\n",
       "      <th>birthwgt_oz1</th>\n",
       "      <th>prglngth</th>\n",
       "      <th>nbrnaliv</th>\n",
       "      <th>agecon</th>\n",
       "      <th>agepreg</th>\n",
       "      <th>birthord</th>\n",
       "      <th>hpagelb</th>\n",
       "      <th>wgt2013_2015</th>\n",
       "    </tr>\n",
       "  </thead>\n",
       "  <tbody>\n",
       "    <tr>\n",
       "      <th>0</th>\n",
       "      <td>60418</td>\n",
       "      <td>1</td>\n",
       "      <td>5.0</td>\n",
       "      <td>4.0</td>\n",
       "      <td>40</td>\n",
       "      <td>1.0</td>\n",
       "      <td>2000</td>\n",
       "      <td>2075.0</td>\n",
       "      <td>1.0</td>\n",
       "      <td>22.0</td>\n",
       "      <td>3554.964843</td>\n",
       "    </tr>\n",
       "    <tr>\n",
       "      <th>1</th>\n",
       "      <td>60418</td>\n",
       "      <td>1</td>\n",
       "      <td>4.0</td>\n",
       "      <td>12.0</td>\n",
       "      <td>36</td>\n",
       "      <td>1.0</td>\n",
       "      <td>2291</td>\n",
       "      <td>2358.0</td>\n",
       "      <td>2.0</td>\n",
       "      <td>25.0</td>\n",
       "      <td>3554.964843</td>\n",
       "    </tr>\n",
       "    <tr>\n",
       "      <th>2</th>\n",
       "      <td>60418</td>\n",
       "      <td>1</td>\n",
       "      <td>5.0</td>\n",
       "      <td>4.0</td>\n",
       "      <td>36</td>\n",
       "      <td>1.0</td>\n",
       "      <td>3241</td>\n",
       "      <td>3308.0</td>\n",
       "      <td>3.0</td>\n",
       "      <td>52.0</td>\n",
       "      <td>3554.964843</td>\n",
       "    </tr>\n",
       "    <tr>\n",
       "      <th>3</th>\n",
       "      <td>60419</td>\n",
       "      <td>6</td>\n",
       "      <td>NaN</td>\n",
       "      <td>NaN</td>\n",
       "      <td>33</td>\n",
       "      <td>NaN</td>\n",
       "      <td>3650</td>\n",
       "      <td>NaN</td>\n",
       "      <td>NaN</td>\n",
       "      <td>NaN</td>\n",
       "      <td>2484.535358</td>\n",
       "    </tr>\n",
       "    <tr>\n",
       "      <th>4</th>\n",
       "      <td>60420</td>\n",
       "      <td>1</td>\n",
       "      <td>8.0</td>\n",
       "      <td>13.0</td>\n",
       "      <td>41</td>\n",
       "      <td>1.0</td>\n",
       "      <td>2191</td>\n",
       "      <td>2266.0</td>\n",
       "      <td>1.0</td>\n",
       "      <td>24.0</td>\n",
       "      <td>2903.782914</td>\n",
       "    </tr>\n",
       "    <tr>\n",
       "      <th>...</th>\n",
       "      <td>...</td>\n",
       "      <td>...</td>\n",
       "      <td>...</td>\n",
       "      <td>...</td>\n",
       "      <td>...</td>\n",
       "      <td>...</td>\n",
       "      <td>...</td>\n",
       "      <td>...</td>\n",
       "      <td>...</td>\n",
       "      <td>...</td>\n",
       "      <td>...</td>\n",
       "    </tr>\n",
       "    <tr>\n",
       "      <th>9353</th>\n",
       "      <td>70615</td>\n",
       "      <td>1</td>\n",
       "      <td>4.0</td>\n",
       "      <td>11.0</td>\n",
       "      <td>35</td>\n",
       "      <td>1.0</td>\n",
       "      <td>1758</td>\n",
       "      <td>1825.0</td>\n",
       "      <td>2.0</td>\n",
       "      <td>22.0</td>\n",
       "      <td>8117.554461</td>\n",
       "    </tr>\n",
       "    <tr>\n",
       "      <th>9354</th>\n",
       "      <td>70616</td>\n",
       "      <td>1</td>\n",
       "      <td>8.0</td>\n",
       "      <td>7.0</td>\n",
       "      <td>42</td>\n",
       "      <td>1.0</td>\n",
       "      <td>1741</td>\n",
       "      <td>1816.0</td>\n",
       "      <td>1.0</td>\n",
       "      <td>18.0</td>\n",
       "      <td>6842.240477</td>\n",
       "    </tr>\n",
       "    <tr>\n",
       "      <th>9355</th>\n",
       "      <td>70616</td>\n",
       "      <td>1</td>\n",
       "      <td>7.0</td>\n",
       "      <td>6.0</td>\n",
       "      <td>36</td>\n",
       "      <td>1.0</td>\n",
       "      <td>2091</td>\n",
       "      <td>2158.0</td>\n",
       "      <td>2.0</td>\n",
       "      <td>23.0</td>\n",
       "      <td>6842.240477</td>\n",
       "    </tr>\n",
       "    <tr>\n",
       "      <th>9356</th>\n",
       "      <td>70619</td>\n",
       "      <td>1</td>\n",
       "      <td>8.0</td>\n",
       "      <td>3.0</td>\n",
       "      <td>41</td>\n",
       "      <td>1.0</td>\n",
       "      <td>3450</td>\n",
       "      <td>3525.0</td>\n",
       "      <td>1.0</td>\n",
       "      <td>31.0</td>\n",
       "      <td>3856.253532</td>\n",
       "    </tr>\n",
       "    <tr>\n",
       "      <th>9357</th>\n",
       "      <td>70619</td>\n",
       "      <td>1</td>\n",
       "      <td>8.0</td>\n",
       "      <td>5.0</td>\n",
       "      <td>40</td>\n",
       "      <td>1.0</td>\n",
       "      <td>3683</td>\n",
       "      <td>3758.0</td>\n",
       "      <td>2.0</td>\n",
       "      <td>34.0</td>\n",
       "      <td>3856.253532</td>\n",
       "    </tr>\n",
       "  </tbody>\n",
       "</table>\n",
       "<p>9358 rows × 11 columns</p>\n",
       "</div>"
      ],
      "text/plain": [
       "      caseid  outcome  birthwgt_lb1  birthwgt_oz1  prglngth  nbrnaliv  agecon  \\\n",
       "0      60418        1           5.0           4.0        40       1.0    2000   \n",
       "1      60418        1           4.0          12.0        36       1.0    2291   \n",
       "2      60418        1           5.0           4.0        36       1.0    3241   \n",
       "3      60419        6           NaN           NaN        33       NaN    3650   \n",
       "4      60420        1           8.0          13.0        41       1.0    2191   \n",
       "...      ...      ...           ...           ...       ...       ...     ...   \n",
       "9353   70615        1           4.0          11.0        35       1.0    1758   \n",
       "9354   70616        1           8.0           7.0        42       1.0    1741   \n",
       "9355   70616        1           7.0           6.0        36       1.0    2091   \n",
       "9356   70619        1           8.0           3.0        41       1.0    3450   \n",
       "9357   70619        1           8.0           5.0        40       1.0    3683   \n",
       "\n",
       "      agepreg  birthord  hpagelb  wgt2013_2015  \n",
       "0      2075.0       1.0     22.0   3554.964843  \n",
       "1      2358.0       2.0     25.0   3554.964843  \n",
       "2      3308.0       3.0     52.0   3554.964843  \n",
       "3         NaN       NaN      NaN   2484.535358  \n",
       "4      2266.0       1.0     24.0   2903.782914  \n",
       "...       ...       ...      ...           ...  \n",
       "9353   1825.0       2.0     22.0   8117.554461  \n",
       "9354   1816.0       1.0     18.0   6842.240477  \n",
       "9355   2158.0       2.0     23.0   6842.240477  \n",
       "9356   3525.0       1.0     31.0   3856.253532  \n",
       "9357   3758.0       2.0     34.0   3856.253532  \n",
       "\n",
       "[9358 rows x 11 columns]"
      ]
     },
     "execution_count": 6,
     "metadata": {},
     "output_type": "execute_result"
    }
   ],
   "source": [
    "nsfg"
   ]
  },
  {
   "cell_type": "code",
   "execution_count": null,
   "metadata": {},
   "outputs": [],
   "source": []
  },
  {
   "cell_type": "code",
   "execution_count": null,
   "metadata": {},
   "outputs": [],
   "source": []
  },
  {
   "cell_type": "code",
   "execution_count": null,
   "metadata": {},
   "outputs": [],
   "source": []
  },
  {
   "cell_type": "code",
   "execution_count": null,
   "metadata": {},
   "outputs": [],
   "source": []
  },
  {
   "cell_type": "markdown",
   "metadata": {},
   "source": [
    "DataFrames provide \"attributes\" and \"methods\".\n",
    "\n",
    "A method is a function that is associated with a particular type.  For example, in a previous notebook, we used the `split` method, which is a function that works with strings.\n",
    "\n",
    "An attribute is a variable associated with a particular type.  For example, DataFrame has an attribute called `shape`, which is the number of rows and columns:\n",
    "\n",
    "----\n",
    "\n",
    "DataFrames提供“屬性”和“方法”。\n",
    "\n",
    "方法是與特定類型關聯的功能。例如，在以前的筆記本中，我們使用了該split方法，該方法適用於字符串。\n",
    "\n",
    "屬性是與特定類型關聯的變量。例如，DataFrame有一個名為的屬性shape，它是行和列的數量：\n"
   ]
  },
  {
   "cell_type": "code",
   "execution_count": 7,
   "metadata": {},
   "outputs": [
    {
     "data": {
      "text/plain": [
       "(9358, 11)"
      ]
     },
     "execution_count": 7,
     "metadata": {},
     "output_type": "execute_result"
    }
   ],
   "source": [
    "nsfg.shape"
   ]
  },
  {
   "cell_type": "markdown",
   "metadata": {},
   "source": [
    "There are 9358 rows in this dataset, one for each pregnancy, and 11 columns, one for each survey question.\n",
    "\n",
    "DataFrame also has an attribute called `columns`, which contains the column names:\n",
    "\n",
    "----\n",
    "\n",
    "此數據集中有 9358　（橫）行，每位受訪者的每次懷孕的所有資料佔 1 行，\n",
    "總共有　11（縱）列，每個調查問題所得之資料佔 1 列。\n",
    "\n",
    "DataFrame 還有一個屬性　名為　`columns`，其中包含名稱：\n"
   ]
  },
  {
   "cell_type": "code",
   "execution_count": 8,
   "metadata": {},
   "outputs": [
    {
     "data": {
      "text/plain": [
       "Index(['caseid', 'outcome', 'birthwgt_lb1', 'birthwgt_oz1', 'prglngth',\n",
       "       'nbrnaliv', 'agecon', 'agepreg', 'birthord', 'hpagelb', 'wgt2013_2015'],\n",
       "      dtype='object')"
      ]
     },
     "execution_count": 8,
     "metadata": {},
     "output_type": "execute_result"
    }
   ],
   "source": [
    "nsfg.columns"
   ]
  },
  {
   "cell_type": "markdown",
   "metadata": {},
   "source": [
    "The column names are stored in an `Index`, which is another Pandas type, similar to a list:\n",
    "\n",
    "----\n",
    "\n",
    "列名存儲在 `Index`，這是另一種 Pandas 類型，類似於 `list`：\n"
   ]
  },
  {
   "cell_type": "code",
   "execution_count": 9,
   "metadata": {},
   "outputs": [
    {
     "data": {
      "text/plain": [
       "pandas.core.indexes.base.Index"
      ]
     },
     "execution_count": 9,
     "metadata": {},
     "output_type": "execute_result"
    }
   ],
   "source": [
    "type(nsfg.columns)"
   ]
  },
  {
   "cell_type": "markdown",
   "metadata": {},
   "source": [
    "Based on the column names, you might be able to guess what some of the variables are, but in general you have to read the documentation.\n",
    "\n",
    "----\n",
    "\n",
    "根據列名，您也許可以猜測一些變量所代表的含意，但是通常您必須詳細閱讀文檔本身。\n"
   ]
  },
  {
   "cell_type": "markdown",
   "metadata": {},
   "source": [
    "**Exercise:** When you work with datasets like the NSFG, it is important to read the documentation carefully. If you interpret a variable incorrectly, you can generate nonsense results and never realize it. So, before we start looking at data, let's get familiar with the NSFG codebook, which describes every variable.\n",
    "\n",
    "* Follow [this link](https://www.icpsr.umich.edu/icpsradmin/nsfg/index?studyNumber=9999) to get to the interactive codebook.\n",
    "\n",
    "* Type \"birthweight\" in the search field, un-select the checkbox that says \"Search variable name only\", and press \"Search\".  You should see a list of variables related to birthweight.\n",
    "\n",
    "* Click on \"BIRTHWGT_LB1\" and read the documentation of this variable. \n",
    "\n",
    "What is the most common value of this variable?\n",
    "\n",
    "----\n",
    "**練習**：\n",
    "\n",
    "當使用諸如NSFG之類的數據集時，務必仔細閱讀文檔。如果錯誤地解釋了變量，則可能會產生無意義的結果，並且永遠不會意識到它。因此，在開始查看數據之前，讓我們熟悉描述每個變量的NSFG代碼簿。\n",
    "\n",
    "單擊此[鏈接](https://www.icpsr.umich.edu/icpsradmin/nsfg/index?studyNumber=9999)以獲取交互式密碼本。\n",
    "\n",
    "在搜索字段中輸入`birthweight`，取消選中 “僅搜索變量名稱” 的複選框，然後按 “搜索”。您應該看到與出生體重相關的變量列表。\n",
    "\n",
    "單擊 `BIRTHWGT_LB1`，然後閱讀此變量的文檔。\n",
    "\n",
    "這個變量最常見的值是什麼？\n",
    "\n"
   ]
  },
  {
   "cell_type": "code",
   "execution_count": 59,
   "metadata": {},
   "outputs": [],
   "source": [
    "# Solution goes here\n",
    "# nsfg.to_csv('ryNsfg.csv')\n",
    "\n",
    "#X= nsfg['birthwgt_lb1']\n",
    "#X.describe()"
   ]
  },
  {
   "cell_type": "code",
   "execution_count": 64,
   "metadata": {},
   "outputs": [
    {
     "data": {
      "text/html": [
       "<div>\n",
       "<style scoped>\n",
       "    .dataframe tbody tr th:only-of-type {\n",
       "        vertical-align: middle;\n",
       "    }\n",
       "\n",
       "    .dataframe tbody tr th {\n",
       "        vertical-align: top;\n",
       "    }\n",
       "\n",
       "    .dataframe thead th {\n",
       "        text-align: right;\n",
       "    }\n",
       "</style>\n",
       "<table border=\"1\" class=\"dataframe\">\n",
       "  <thead>\n",
       "    <tr style=\"text-align: right;\">\n",
       "      <th></th>\n",
       "      <th>caseid</th>\n",
       "      <th>outcome</th>\n",
       "      <th>birthwgt_lb1</th>\n",
       "      <th>birthwgt_oz1</th>\n",
       "      <th>prglngth</th>\n",
       "      <th>nbrnaliv</th>\n",
       "      <th>agecon</th>\n",
       "      <th>agepreg</th>\n",
       "      <th>birthord</th>\n",
       "      <th>hpagelb</th>\n",
       "      <th>wgt2013_2015</th>\n",
       "    </tr>\n",
       "  </thead>\n",
       "  <tbody>\n",
       "    <tr>\n",
       "      <th>0</th>\n",
       "      <td>60418</td>\n",
       "      <td>1</td>\n",
       "      <td>5.0</td>\n",
       "      <td>4.0</td>\n",
       "      <td>40</td>\n",
       "      <td>1.0</td>\n",
       "      <td>2000</td>\n",
       "      <td>2075.0</td>\n",
       "      <td>1.0</td>\n",
       "      <td>22.0</td>\n",
       "      <td>3554.964843</td>\n",
       "    </tr>\n",
       "    <tr>\n",
       "      <th>1</th>\n",
       "      <td>60418</td>\n",
       "      <td>1</td>\n",
       "      <td>4.0</td>\n",
       "      <td>12.0</td>\n",
       "      <td>36</td>\n",
       "      <td>1.0</td>\n",
       "      <td>2291</td>\n",
       "      <td>2358.0</td>\n",
       "      <td>2.0</td>\n",
       "      <td>25.0</td>\n",
       "      <td>3554.964843</td>\n",
       "    </tr>\n",
       "    <tr>\n",
       "      <th>2</th>\n",
       "      <td>60418</td>\n",
       "      <td>1</td>\n",
       "      <td>5.0</td>\n",
       "      <td>4.0</td>\n",
       "      <td>36</td>\n",
       "      <td>1.0</td>\n",
       "      <td>3241</td>\n",
       "      <td>3308.0</td>\n",
       "      <td>3.0</td>\n",
       "      <td>52.0</td>\n",
       "      <td>3554.964843</td>\n",
       "    </tr>\n",
       "    <tr>\n",
       "      <th>3</th>\n",
       "      <td>60419</td>\n",
       "      <td>6</td>\n",
       "      <td>NaN</td>\n",
       "      <td>NaN</td>\n",
       "      <td>33</td>\n",
       "      <td>NaN</td>\n",
       "      <td>3650</td>\n",
       "      <td>NaN</td>\n",
       "      <td>NaN</td>\n",
       "      <td>NaN</td>\n",
       "      <td>2484.535358</td>\n",
       "    </tr>\n",
       "    <tr>\n",
       "      <th>4</th>\n",
       "      <td>60420</td>\n",
       "      <td>1</td>\n",
       "      <td>8.0</td>\n",
       "      <td>13.0</td>\n",
       "      <td>41</td>\n",
       "      <td>1.0</td>\n",
       "      <td>2191</td>\n",
       "      <td>2266.0</td>\n",
       "      <td>1.0</td>\n",
       "      <td>24.0</td>\n",
       "      <td>2903.782914</td>\n",
       "    </tr>\n",
       "    <tr>\n",
       "      <th>...</th>\n",
       "      <td>...</td>\n",
       "      <td>...</td>\n",
       "      <td>...</td>\n",
       "      <td>...</td>\n",
       "      <td>...</td>\n",
       "      <td>...</td>\n",
       "      <td>...</td>\n",
       "      <td>...</td>\n",
       "      <td>...</td>\n",
       "      <td>...</td>\n",
       "      <td>...</td>\n",
       "    </tr>\n",
       "    <tr>\n",
       "      <th>9353</th>\n",
       "      <td>70615</td>\n",
       "      <td>1</td>\n",
       "      <td>4.0</td>\n",
       "      <td>11.0</td>\n",
       "      <td>35</td>\n",
       "      <td>1.0</td>\n",
       "      <td>1758</td>\n",
       "      <td>1825.0</td>\n",
       "      <td>2.0</td>\n",
       "      <td>22.0</td>\n",
       "      <td>8117.554461</td>\n",
       "    </tr>\n",
       "    <tr>\n",
       "      <th>9354</th>\n",
       "      <td>70616</td>\n",
       "      <td>1</td>\n",
       "      <td>8.0</td>\n",
       "      <td>7.0</td>\n",
       "      <td>42</td>\n",
       "      <td>1.0</td>\n",
       "      <td>1741</td>\n",
       "      <td>1816.0</td>\n",
       "      <td>1.0</td>\n",
       "      <td>18.0</td>\n",
       "      <td>6842.240477</td>\n",
       "    </tr>\n",
       "    <tr>\n",
       "      <th>9355</th>\n",
       "      <td>70616</td>\n",
       "      <td>1</td>\n",
       "      <td>7.0</td>\n",
       "      <td>6.0</td>\n",
       "      <td>36</td>\n",
       "      <td>1.0</td>\n",
       "      <td>2091</td>\n",
       "      <td>2158.0</td>\n",
       "      <td>2.0</td>\n",
       "      <td>23.0</td>\n",
       "      <td>6842.240477</td>\n",
       "    </tr>\n",
       "    <tr>\n",
       "      <th>9356</th>\n",
       "      <td>70619</td>\n",
       "      <td>1</td>\n",
       "      <td>8.0</td>\n",
       "      <td>3.0</td>\n",
       "      <td>41</td>\n",
       "      <td>1.0</td>\n",
       "      <td>3450</td>\n",
       "      <td>3525.0</td>\n",
       "      <td>1.0</td>\n",
       "      <td>31.0</td>\n",
       "      <td>3856.253532</td>\n",
       "    </tr>\n",
       "    <tr>\n",
       "      <th>9357</th>\n",
       "      <td>70619</td>\n",
       "      <td>1</td>\n",
       "      <td>8.0</td>\n",
       "      <td>5.0</td>\n",
       "      <td>40</td>\n",
       "      <td>1.0</td>\n",
       "      <td>3683</td>\n",
       "      <td>3758.0</td>\n",
       "      <td>2.0</td>\n",
       "      <td>34.0</td>\n",
       "      <td>3856.253532</td>\n",
       "    </tr>\n",
       "  </tbody>\n",
       "</table>\n",
       "<p>9358 rows × 11 columns</p>\n",
       "</div>"
      ],
      "text/plain": [
       "      caseid  outcome  birthwgt_lb1  birthwgt_oz1  prglngth  nbrnaliv  agecon  \\\n",
       "0      60418        1           5.0           4.0        40       1.0    2000   \n",
       "1      60418        1           4.0          12.0        36       1.0    2291   \n",
       "2      60418        1           5.0           4.0        36       1.0    3241   \n",
       "3      60419        6           NaN           NaN        33       NaN    3650   \n",
       "4      60420        1           8.0          13.0        41       1.0    2191   \n",
       "...      ...      ...           ...           ...       ...       ...     ...   \n",
       "9353   70615        1           4.0          11.0        35       1.0    1758   \n",
       "9354   70616        1           8.0           7.0        42       1.0    1741   \n",
       "9355   70616        1           7.0           6.0        36       1.0    2091   \n",
       "9356   70619        1           8.0           3.0        41       1.0    3450   \n",
       "9357   70619        1           8.0           5.0        40       1.0    3683   \n",
       "\n",
       "      agepreg  birthord  hpagelb  wgt2013_2015  \n",
       "0      2075.0       1.0     22.0   3554.964843  \n",
       "1      2358.0       2.0     25.0   3554.964843  \n",
       "2      3308.0       3.0     52.0   3554.964843  \n",
       "3         NaN       NaN      NaN   2484.535358  \n",
       "4      2266.0       1.0     24.0   2903.782914  \n",
       "...       ...       ...      ...           ...  \n",
       "9353   1825.0       2.0     22.0   8117.554461  \n",
       "9354   1816.0       1.0     18.0   6842.240477  \n",
       "9355   2158.0       2.0     23.0   6842.240477  \n",
       "9356   3525.0       1.0     31.0   3856.253532  \n",
       "9357   3758.0       2.0     34.0   3856.253532  \n",
       "\n",
       "[9358 rows x 11 columns]"
      ]
     },
     "execution_count": 64,
     "metadata": {},
     "output_type": "execute_result"
    }
   ],
   "source": [
    "# 資料的全貌\n",
    "\n",
    "nsfg"
   ]
  },
  {
   "cell_type": "code",
   "execution_count": 65,
   "metadata": {},
   "outputs": [
    {
     "data": {
      "text/plain": [
       "0       5.0\n",
       "1       4.0\n",
       "2       5.0\n",
       "3       NaN\n",
       "4       8.0\n",
       "       ... \n",
       "9353    4.0\n",
       "9354    8.0\n",
       "9355    7.0\n",
       "9356    8.0\n",
       "9357    8.0\n",
       "Name: birthwgt_lb1, Length: 9358, dtype: float64"
      ]
     },
     "execution_count": 65,
     "metadata": {},
     "output_type": "execute_result"
    }
   ],
   "source": [
    "# 取出　birthwgt_lb1　欄位\n",
    "\n",
    "X= nsfg['birthwgt_lb1']\n",
    "X"
   ]
  },
  {
   "cell_type": "code",
   "execution_count": 76,
   "metadata": {},
   "outputs": [
    {
     "data": {
      "text/plain": [
       "0    7.0\n",
       "dtype: float64"
      ]
     },
     "execution_count": 76,
     "metadata": {},
     "output_type": "execute_result"
    }
   ],
   "source": [
    "# 眾數，最常出現的資料值\n",
    "\n",
    "X.mode() "
   ]
  },
  {
   "cell_type": "code",
   "execution_count": 73,
   "metadata": {},
   "outputs": [
    {
     "data": {
      "text/plain": [
       "(6485, 52238.0, 8.055204317656129, 7.0)"
      ]
     },
     "execution_count": 73,
     "metadata": {},
     "output_type": "execute_result"
    }
   ],
   "source": [
    "# 其它　也很重要的統計參數\n",
    "\n",
    "X.count(), X.sum(), X.mean(), X.median()"
   ]
  },
  {
   "cell_type": "code",
   "execution_count": 74,
   "metadata": {},
   "outputs": [
    {
     "data": {
      "text/plain": [
       "count    6485.000000\n",
       "mean        8.055204\n",
       "std        11.178893\n",
       "min         0.000000\n",
       "25%         6.000000\n",
       "50%         7.000000\n",
       "75%         8.000000\n",
       "max        99.000000\n",
       "Name: birthwgt_lb1, dtype: float64"
      ]
     },
     "execution_count": 74,
     "metadata": {},
     "output_type": "execute_result"
    }
   ],
   "source": [
    "# 一次把敘述統計的重要參數列出\n",
    "\n",
    "X.describe()"
   ]
  },
  {
   "cell_type": "markdown",
   "metadata": {},
   "source": [
    "### 【ry註解】\n",
    "\n",
    "什麼啊！　max = 99 pounds ！ 巨嬰喔！！\n",
    "\n",
    " 1 pound  = 0.45359237 kg\n",
    "99 pounds = 44.9 kg !!!"
   ]
  },
  {
   "cell_type": "code",
   "execution_count": 77,
   "metadata": {},
   "outputs": [
    {
     "data": {
      "text/plain": [
       "44.905644630000005"
      ]
     },
     "execution_count": 77,
     "metadata": {},
     "output_type": "execute_result"
    }
   ],
   "source": [
    "99 * 0.45359237"
   ]
  },
  {
   "cell_type": "markdown",
   "metadata": {},
   "source": [
    "## Series\n",
    "\n",
    "In many ways a DataFrame is like a Python dictionary, where the column names are the keys and the columns are the values.  You can select a column from a DataFrame using the bracket operator, with a string as the key.\n",
    "\n",
    "----\n",
    "## 系列\n",
    "\n",
    "在許多方面，DataFrame就像Python `字典(dict)` 一樣，\n",
    "其中列名是 `鍵(key)`，而列的資料是`值(value)`。\n",
    "您可以使用方括號運算符 `[]` 從DataFrame中選擇一 列，\n",
    "並以`字符串`作為 鍵。\n"
   ]
  },
  {
   "cell_type": "code",
   "execution_count": 78,
   "metadata": {},
   "outputs": [
    {
     "data": {
      "text/plain": [
       "pandas.core.series.Series"
      ]
     },
     "execution_count": 78,
     "metadata": {},
     "output_type": "execute_result"
    }
   ],
   "source": [
    "pounds= 磅數= nsfg['birthwgt_lb1']\n",
    "type(pounds)"
   ]
  },
  {
   "cell_type": "markdown",
   "metadata": {},
   "source": [
    "The result is a Series, which is another Pandas type.  \n",
    "\n",
    "In this case the Series contains the birth weights, in pounds, of the live births (or in the case of multiple births, the first baby).\n",
    "\n",
    "----\n",
    "結果是系列，這是另一種熊貓類型。\n",
    "\n",
    "在這種情況下，系列包含活產的出生體重（以磅為單位）（如果是多胎，則是第一個嬰兒）。\n"
   ]
  },
  {
   "cell_type": "markdown",
   "metadata": {},
   "source": [
    "`head()` shows the first five values in the series, the name of the series, and the datatype:\n",
    "\n",
    "----\n",
    "結果是系列，這是另一種熊貓類型。\n",
    "\n",
    "在這種情況下，系列包含活產的出生體重（以磅為單位）（如果是多胎，則是第一個嬰兒）。\n",
    "\n",
    "head() 顯示系列中的前五個值，系列名稱和數據類型：\n"
   ]
  },
  {
   "cell_type": "code",
   "execution_count": 14,
   "metadata": {},
   "outputs": [
    {
     "data": {
      "text/plain": [
       "0    5.0\n",
       "1    4.0\n",
       "2    5.0\n",
       "3    NaN\n",
       "4    8.0\n",
       "Name: birthwgt_lb1, dtype: float64"
      ]
     },
     "execution_count": 14,
     "metadata": {},
     "output_type": "execute_result"
    }
   ],
   "source": [
    "pounds.head()"
   ]
  },
  {
   "cell_type": "markdown",
   "metadata": {},
   "source": [
    "Remember that `head` is a method, not an attribute; to call it, we have to use parentheses, `()`.\n",
    "\n",
    "`float64` means that these values are 64-bit floating-point numbers.\n",
    "\n",
    "One of the values is `NaN`, which stands for \"Not a Number\".  NaN is a special value used to indicate invalid or missing data.  In this example, the pregnancy did not end in live birth, so birth weight is inapplicable.\n",
    "\n",
    "----\n",
    "請記住，這head是一種方法，而不是屬性。調用它，我們必須使用括號()。\n",
    "\n",
    "float64 表示這些值為64位浮點數。\n",
    "\n",
    "值之一是NaN，代表“不是數字”。NaN是一個特殊值，用於指示無效或丟失的數據。在此示例中，懷孕並沒有以活產結束，因此出生體重不適用。\n"
   ]
  },
  {
   "cell_type": "markdown",
   "metadata": {},
   "source": [
    "**Exercise:**  The variable `birthwgt_oz1` contains the ounces part of birth weight.\n",
    "\n",
    "- [Read the documentation of this variable](https://www.icpsr.umich.edu/icpsradmin/nsfg/variable/815971?studyNumber=9999).  What is the \"universe\" of this variable; that is, when is it applicable?\n",
    "\n",
    "- Select the column `'birthwgt_oz1'` from the `nsfg` DataFrame and assign it to a new variable called `ounces`.\n",
    "\n",
    "- Display the first 5 elements of `ounces`."
   ]
  },
  {
   "cell_type": "code",
   "execution_count": 15,
   "metadata": {},
   "outputs": [],
   "source": [
    "# Solution goes here"
   ]
  },
  {
   "cell_type": "markdown",
   "metadata": {},
   "source": [
    "**Exercise:** The Pandas types we have seen so far at DataFrame, Index, and Series.  You can find the documentation of these types at:\n",
    "\n",
    "* [DataFrame](https://pandas.pydata.org/pandas-docs/stable/reference/api/pandas.DataFrame.html)\n",
    "\n",
    "* [Index](https://pandas.pydata.org/pandas-docs/stable/reference/api/pandas.Index.html)\n",
    "\n",
    "* [Series](https://pandas.pydata.org/pandas-docs/stable/reference/api/pandas.Series.html)\n",
    "\n",
    "For beginners, this documentation can be overwhelming.  I don't recommend trying to read it all now.  But you might want to skim it so you know where to look later.\n",
    "\n",
    "For each type, the documentation lists the associated attributes (which are like variables) and methods (which are like functions).\n",
    "\n",
    "----\n",
    "練習： 該變量birthwgt_oz1包含出生體重的盎司部分。\n",
    "\n",
    "閱讀此變量的文檔。這個變量的“宇宙”是什麼？也就是說，什麼時候適用？\n",
    "\n",
    "'birthwgt_oz1'從nsfgDataFrame中選擇該列，並將其分配給名為的新變量ounces。\n",
    "\n",
    "顯示的前5個元素ounces。\n"
   ]
  },
  {
   "cell_type": "markdown",
   "metadata": {},
   "source": [
    "## Validation\n",
    "\n",
    "At this point we have identified the columns we need to answer the question.  \n",
    "\n",
    "* I'll select `birthwgt_lb1`, which contains the pound part of birth weight, and assign it to `pounds`.  \n",
    "\n",
    "* And I'll select `birthwgt_oz1`, which contains the ounce part of birth weight, and assign it to `ounces`.\n",
    "\n",
    "----\n",
    "\n",
    "Validation \n",
    "\n",
    "至此，我們已經確定了我們需要回答的列。\n",
    "\n",
    "我將選擇birthwgt_lb1，其中包含出生體重的磅部分，並將其分配給pounds。\n",
    "\n",
    "然後，我選擇birthwgt_oz1，其中包含出生體重的盎司部分，並將其分配給ounces。"
   ]
  },
  {
   "cell_type": "code",
   "execution_count": 16,
   "metadata": {},
   "outputs": [],
   "source": [
    "ounces = nsfg['birthwgt_oz1']\n",
    "pounds = nsfg['birthwgt_lb1']"
   ]
  },
  {
   "cell_type": "markdown",
   "metadata": {},
   "source": [
    "Before we do anything with this data, we have to validate it.  One part of validation is confirming that we are interpreting the data correctly.\n",
    "\n",
    "We can use the `value_counts` method to see what values appear in `pounds` and how many times each value appears.\n",
    "\n",
    "----\n",
    "在對這些數據進行任何處理之前，我們必須對其進行驗證。驗證的一部分是確認我們正在正確解釋數據。\n",
    "\n",
    "我們可以使用該value_counts方法查看出現在其中的值pounds以及每個值出現多少次。\n"
   ]
  },
  {
   "cell_type": "code",
   "execution_count": 17,
   "metadata": {},
   "outputs": [
    {
     "data": {
      "text/plain": [
       "7.0     2146\n",
       "6.0     1666\n",
       "8.0     1168\n",
       "5.0      586\n",
       "9.0      363\n",
       "4.0      196\n",
       "99.0      94\n",
       "10.0      82\n",
       "3.0       67\n",
       "2.0       47\n",
       "1.0       34\n",
       "11.0      17\n",
       "12.0       7\n",
       "0.0        6\n",
       "14.0       2\n",
       "13.0       2\n",
       "98.0       1\n",
       "17.0       1\n",
       "Name: birthwgt_lb1, dtype: int64"
      ]
     },
     "execution_count": 17,
     "metadata": {},
     "output_type": "execute_result"
    }
   ],
   "source": [
    "pounds.value_counts()"
   ]
  },
  {
   "cell_type": "markdown",
   "metadata": {},
   "source": [
    "By default, the results are sorted with the most frequent value first, so I use `sort_index` to sort them by value instead, with the lightest babies first and heaviest babies last.\n",
    "\n",
    "----\n",
    "默認情況下，結果按最頻繁出現的值排在最前面，因此我使用sort_index按值排序，最輕的嬰兒排在最前，最重的嬰兒排在最後。\n"
   ]
  },
  {
   "cell_type": "code",
   "execution_count": 18,
   "metadata": {},
   "outputs": [
    {
     "data": {
      "text/plain": [
       "0.0        6\n",
       "1.0       34\n",
       "2.0       47\n",
       "3.0       67\n",
       "4.0      196\n",
       "5.0      586\n",
       "6.0     1666\n",
       "7.0     2146\n",
       "8.0     1168\n",
       "9.0      363\n",
       "10.0      82\n",
       "11.0      17\n",
       "12.0       7\n",
       "13.0       2\n",
       "14.0       2\n",
       "17.0       1\n",
       "98.0       1\n",
       "99.0      94\n",
       "Name: birthwgt_lb1, dtype: int64"
      ]
     },
     "execution_count": 18,
     "metadata": {},
     "output_type": "execute_result"
    }
   ],
   "source": [
    "pounds.value_counts().sort_index()"
   ]
  },
  {
   "cell_type": "markdown",
   "metadata": {},
   "source": [
    "As we'd expect, the most frequent values are 6-8 pounds, but there are some very light babies, a few very heavy babies, and two special values, 98, and 99.  [According to the codebook](https://www.icpsr.umich.edu/icpsradmin/nsfg/variable/815970?studyNumber=9999), these values indicate that the respondent declined to answer the question (98) or did not know (99).\n",
    "\n",
    "We can validate the results by comparing them to the codebook, which lists the values and their frequencies.  The results here agree with the codebook, so we have some confidence that we are reading and interpreting the data correctly.\n",
    "\n",
    "----\n",
    "正如我們所期望的，最常見的值是6-8磅，但是有一些非常輕便的嬰兒，一些非常重的嬰兒，以及兩個特殊值98和99。 根據密碼本，這些值表明受訪者拒絕回答問題（98）或不知道（99）。\n",
    "\n",
    "我們可以通過將結果與代碼簿進行比較來驗證結果，代碼簿列出了值及其頻率。此處的結果與密碼本相符，因此我們可以確信自己正在正確讀取和解釋數據。"
   ]
  },
  {
   "cell_type": "markdown",
   "metadata": {},
   "source": [
    "**Exercise:** In the `nsfg` DataFrame, the column `'outcome'` encodes the outcome of each pregnancy as shown below:\n",
    "\n",
    "| Value | Meaning |\n",
    "|---|---|\n",
    "| 1  | Live birth |\n",
    "| 2  | Induced abortion |\n",
    "| 3  | Stillbirth | \n",
    "| 4  | Miscarriage |\n",
    "| 5  | Ectopic pregnancy |\n",
    "| 6  | Current pregnancy |\n",
    "\n",
    "Use `value_counts` to display the values in this column and how many times each value appears.  Compare the results to the codebook, [which you can find here](https://www.icpsr.umich.edu/icpsradmin/nsfg/variable/816124?studyNumber=9999).  According to the codebook, how many live births are described in this dataset?  How many did you find in the DataFrame?\n",
    "\n",
    "----\n",
    "\n",
    "練習：在nsfgDataFrame中，該列'outcome'編碼每次懷孕的結果，如下所示：\n",
    "\n",
    "|值|\t含義|\n",
    "|---|---|\n",
    "|1|\t活產|\n",
    "|2|\t人工流產|\n",
    "|3|\t死胎|\n",
    "|4|\t流產|\n",
    "|5|\t異位妊娠|\n",
    "|6|\t目前懷孕|\n",
    "\n",
    "使用value_counts顯示在此列中多少次，每次值顯示的值。將結果與密碼本進行比較，您可以在此處找到。根據密碼書，此數據集中描述了多少活產？您在DataFrame中找到了多少？\n"
   ]
  },
  {
   "cell_type": "code",
   "execution_count": 19,
   "metadata": {},
   "outputs": [],
   "source": [
    "# Solution goes here"
   ]
  },
  {
   "cell_type": "markdown",
   "metadata": {},
   "source": [
    "## Summary statistics\n",
    "\n",
    "Another way to validate the data is with `describe`, which computes summary statistics like the mean, standard deviation, min, and max.\n",
    "\n",
    "Here are the results for `pounds`.  \n",
    "\n",
    "----\n",
    "匯總統計\n",
    "\n",
    "驗證數據的另一種方法是使用describe，它可以計算匯總統計信息，例如平均值，標準偏差，最小值和最大值。\n",
    "\n",
    "這是的結果pounds。\n"
   ]
  },
  {
   "cell_type": "code",
   "execution_count": 20,
   "metadata": {},
   "outputs": [
    {
     "data": {
      "text/plain": [
       "count    6485.000000\n",
       "mean        8.055204\n",
       "std        11.178893\n",
       "min         0.000000\n",
       "25%         6.000000\n",
       "50%         7.000000\n",
       "75%         8.000000\n",
       "max        99.000000\n",
       "Name: birthwgt_lb1, dtype: float64"
      ]
     },
     "execution_count": 20,
     "metadata": {},
     "output_type": "execute_result"
    }
   ],
   "source": [
    "pounds.describe()"
   ]
  },
  {
   "cell_type": "markdown",
   "metadata": {},
   "source": [
    "`count` is the number of values, not including `NaN`.\n",
    "\n",
    "`mean` and `std` are the mean and standard deviation.\n",
    "\n",
    "`min` and `max` are the minimum and maximum values, and in between are the 25th, 50th, and 75th percentiles.  The 50th percentile is the median.\n",
    "\n",
    "The mean is about 8.05, but that doesn't mean much because it includes the special values 98 and 99.  Before we can really compute the mean, we have to replace those values with `NaN` to identify them as missing data.\n",
    "\n",
    "The `replace()` method does what we want:\n",
    "\n",
    "----\n",
    "count是值的數量，不包括NaN。\n",
    "\n",
    "mean並且std是均值和標準差。\n",
    "\n",
    "min和max是最小值和最大值，介於25、50和75之間。第50個百分位數是中位數。\n",
    "\n",
    "平均值約為8.05，但這並不意味著太多，因為它包含特殊值98和99。在真正計算平均值之前，我們必須替換這些值以NaN將其標識為丟失的數據。\n",
    "\n",
    "該replace()方法實現了我們想要的功能：\n"
   ]
  },
  {
   "cell_type": "code",
   "execution_count": 21,
   "metadata": {},
   "outputs": [],
   "source": [
    "import numpy as np\n",
    "\n",
    "pounds_clean = pounds.replace([98, 99], np.nan)"
   ]
  },
  {
   "cell_type": "markdown",
   "metadata": {},
   "source": [
    "`replace` takes a list of the values we want to replace and the value we want to replace them with.  `np.nan` means we are getting the special value `NaN` from the NumPy library, which is imported as `np`.\n",
    "\n",
    "The result from `replace()` is a new Series, which I assign to `pounds_clean`.\n",
    "\n",
    "If we run `describe` again, we see that `count` includes only the valid values.\n",
    "\n",
    "----\n",
    "\n",
    "replace列出了我們要替換的值以及我們要替換的值的列表。 np.nan表示我們正在NaN從NumPy庫中獲取特殊值，該庫作為導入np。\n",
    "\n",
    "的結果replace()是一個新的系列，我將其分配給pounds_clean。\n",
    "\n",
    "如果describe再次運行，我們將看到count僅包含有效值。\n"
   ]
  },
  {
   "cell_type": "code",
   "execution_count": 22,
   "metadata": {},
   "outputs": [
    {
     "data": {
      "text/plain": [
       "count    6390.000000\n",
       "mean        6.703286\n",
       "std         1.429265\n",
       "min         0.000000\n",
       "25%         6.000000\n",
       "50%         7.000000\n",
       "75%         8.000000\n",
       "max        17.000000\n",
       "Name: birthwgt_lb1, dtype: float64"
      ]
     },
     "execution_count": 22,
     "metadata": {},
     "output_type": "execute_result"
    }
   ],
   "source": [
    "pounds_clean.describe()"
   ]
  },
  {
   "cell_type": "markdown",
   "metadata": {},
   "source": [
    "The mean of the new series is about 6.7 pounds.\n",
    "\n",
    "Remember that the mean of the original series was more than 8 pounds.\n",
    "\n",
    "It makes a big difference when you remove a few 99-pound babies!\n",
    "\n",
    "----\n",
    "新系列的平均重量約為6.7磅。\n",
    "\n",
    "請記住，原始系列的均值超過8磅。\n",
    "\n",
    "當您刪除幾個99磅重的嬰兒時，這將帶來很大的不同！\n"
   ]
  },
  {
   "cell_type": "markdown",
   "metadata": {},
   "source": [
    "**Exercise:** Use `describe` to summarize `ounces`.  \n",
    "\n",
    "Then use `replace` to replace the special values 98 and 99 with NaN, and assign the result to `ounces_clean`.\n",
    "\n",
    "Run `describe` again.  How much does this cleaning affect the results?\n",
    "\n",
    "----\n",
    "\n",
    "練習：使用describe總結ounces。\n",
    "\n",
    "然後使用replace將特殊值98和99替換為NaN，並將結果分配給ounces_clean。\n",
    "\n",
    "describe再次運行。清洗對結果有多大影響？\n"
   ]
  },
  {
   "cell_type": "code",
   "execution_count": 23,
   "metadata": {},
   "outputs": [],
   "source": [
    "# Solution goes here"
   ]
  },
  {
   "cell_type": "code",
   "execution_count": 24,
   "metadata": {},
   "outputs": [],
   "source": [
    "# Solution goes here"
   ]
  },
  {
   "cell_type": "code",
   "execution_count": 25,
   "metadata": {},
   "outputs": [],
   "source": [
    "# Solution goes here"
   ]
  },
  {
   "cell_type": "markdown",
   "metadata": {},
   "source": [
    "**Exercise:** In the `nsfg` DataFrame, the column `'nbrnaliv'` records the number of babies born alive at the end of each pregnancy.\n",
    "\n",
    "If you use `value_counts` to view the responses, you'll see that the value `8` appears once, and if you [consult the codebook](https://www.icpsr.umich.edu/icpsradmin/nsfg/variable/815953?studyNumber=9999), you'll see that this value indicates that the respondent refused to answer the question. \n",
    "\n",
    "Use `replace` to replace this value with `np.nan`, then display the responses again and confirm that they are consistent with the codebook.\n",
    "\n",
    "----\n",
    "練習：在nsfgDataFrame中，該列'nbrnaliv'記錄每次懷孕結束時活著出生的嬰兒數。\n",
    "\n",
    "如果value_counts用於查看答复，8則將看到該值出現一次；如果查閱密碼本，則將看到該值指示受訪者拒絕回答問題。\n",
    "\n",
    "使用replace將該值替換為np.nan，然後再次顯示響應並確認它們與密碼本一致。"
   ]
  },
  {
   "cell_type": "code",
   "execution_count": 26,
   "metadata": {},
   "outputs": [],
   "source": [
    "# Solution goes here"
   ]
  },
  {
   "cell_type": "code",
   "execution_count": 27,
   "metadata": {},
   "outputs": [],
   "source": [
    "# Solution goes here"
   ]
  },
  {
   "cell_type": "markdown",
   "metadata": {},
   "source": [
    "## Series arithmetic\n",
    "\n",
    "Now we want to combine `pounds` and `ounces` into a single Series that contains total birth weight.\n",
    "\n",
    "Arithmetic operators work with Series objects; so, for example, to convert `pounds` to ounces, we could write\n",
    "\n",
    "`pounds * 16`\n",
    "\n",
    "Then we could add in `ounces` like this\n",
    "\n",
    "`pounds * 16 + ounces`\n",
    "\n",
    "**Exercise:** Use `pounds_clean` and `ounces_clean` to compute the total birth weight expressed in kilograms (there are roughly 2.2 pounds per kilogram).  What is the mean birth weight in kilograms?\n",
    "\n",
    "----\n",
    "\n",
    "級數算法\n",
    "\n",
    "現在，我們要合併pounds並ounces合併為一個包含總出生體重的序列。\n",
    "\n",
    "算術運算符與Series對像一起使用；因此，例如，要轉換pounds為盎司，我們可以寫\n",
    "\n",
    "pounds * 16\n",
    "\n",
    "然後我們可以ounces像這樣添加\n",
    "\n",
    "pounds * 16 + ounces\n",
    "\n",
    "練習：使用pounds_clean和ounces_clean計算以公斤表示的總出生體重（每公斤大約2.2磅）。平均出生體重（公斤）是多少？"
   ]
  },
  {
   "cell_type": "code",
   "execution_count": 28,
   "metadata": {},
   "outputs": [],
   "source": [
    "# Solution goes here"
   ]
  },
  {
   "cell_type": "markdown",
   "metadata": {},
   "source": [
    "**Exercise:** For each pregnancy in the NSFG dataset, the variable `'agecon'` encodes the respondent's age at conception, and `'agepreg'` the respondent's age at the end of the pregnancy.\n",
    "\n",
    "Both variables are recorded as integers with two implicit decimal places, so the value `2575` means that the respondent's age was `25.75`.\n",
    "\n",
    "- Read the documentation of these variables.  Are there any special values we have to deal with?\n",
    "\n",
    "- Select `'agecon'` and `'agepreg'`, divide them by `100`, and assign them to variables named `agecon` and `agepreg`.\n",
    "\n",
    "- Compute the difference, which is an estimate of the duration of the pregnancy.\n",
    "\n",
    "- Use `.describe()` to compute the mean duration and other summary statistics.\n",
    "\n",
    "If the mean length of pregnancy seems short, remember that this dataset includes all pregnancies, not just the ones that ended in live birth.\n",
    "\n",
    "----\n",
    "\n",
    "練習：對於NSFG數據集中的每次懷孕，該變量'agecon'將編碼受孕者的受孕年齡，以及受孕'agepreg'者在懷孕結束時的年齡。\n",
    "\n",
    "兩個變量均記錄為帶有兩個隱式小數位的整數，因此該值2575表示被調查者的年齡為25.75。\n",
    "\n",
    "閱讀這些變量的文檔。有什麼特別的價值觀要處理嗎？\n",
    "\n",
    "選擇'agecon'和'agepreg'，將它們除以100，然後將它們分配給名為agecon和的變量agepreg。\n",
    "\n",
    "計算差異，這是對懷孕持續時間的估計。\n",
    "\n",
    "使用.describe()以計算平均持續時間和其他匯總統計。\n",
    "\n",
    "如果平均懷孕時間很短，請記住該數據集包括所有懷孕，而不僅僅是活產中的那些。\n"
   ]
  },
  {
   "cell_type": "code",
   "execution_count": 29,
   "metadata": {},
   "outputs": [],
   "source": [
    "# Solution goes here"
   ]
  },
  {
   "cell_type": "markdown",
   "metadata": {},
   "source": [
    "## Histograms\n",
    "\n",
    "Let's get back to the original queston: what is the average birth weight for babies in the U.S.?  \n",
    "\n",
    "As an answer we *could* take the results from the previous section and compute the mean:\n",
    "\n",
    "----\n",
    "\n",
    "Histograms \n",
    "\n",
    "讓我們回到最初的問題：在美國，嬰兒的平均出生體重是多少？\n",
    "\n",
    "作為答案，我們可以採用上一部分的結果併計算均值：\n"
   ]
  },
  {
   "cell_type": "code",
   "execution_count": 30,
   "metadata": {},
   "outputs": [
    {
     "data": {
      "text/plain": [
       "7.120977576711251"
      ]
     },
     "execution_count": 30,
     "metadata": {},
     "output_type": "execute_result"
    }
   ],
   "source": [
    "pounds_clean = pounds.replace([98, 99], np.nan)\n",
    "ounces_clean = ounces.replace([98, 99], np.nan)\n",
    "\n",
    "birth_weight = pounds_clean + ounces_clean / 16\n",
    "birth_weight.mean()"
   ]
  },
  {
   "cell_type": "markdown",
   "metadata": {},
   "source": [
    "But it is risky to compute a summary statistic, like the mean, before we look at the whole distribution of values.\n",
    "\n",
    "A \"distribution\" is a set of possible values and their frequencies.  One way to visualize a distribution is a histogram, which shows values on the `x` axis and their frequencies on the `y` axis.\n",
    "\n",
    "We'll use Pyplot to make histograms; as usual, we import it with the short name `plt`:\n",
    "\n",
    "----\n",
    "\n",
    "但是在查看值的整體分佈之前，計算匯總統計信息（如均值）是有風險的。\n",
    "\n",
    "“分佈”是一組可能的值及其頻率。可視化分佈的一種方法是直方圖，它在x軸上顯示值，並在軸上顯示頻率y。\n",
    "\n",
    "我們將使用Pyplot製作直方圖；和往常一樣，我們以短名稱導入plt：\n"
   ]
  },
  {
   "cell_type": "code",
   "execution_count": 31,
   "metadata": {},
   "outputs": [],
   "source": [
    "import matplotlib.pyplot as plt"
   ]
  },
  {
   "cell_type": "markdown",
   "metadata": {},
   "source": [
    "Pyplot provides `hist`, which takes a Series and plots a histogram; that is, it shows the values and how often they appear.\n",
    "\n",
    "----\n",
    "\n",
    "Pyplot提供了hist，它接受一個Series並繪製一個直方圖；也就是說，它顯示值及其出現的頻率。\n",
    "\n"
   ]
  },
  {
   "cell_type": "code",
   "execution_count": 32,
   "metadata": {},
   "outputs": [
    {
     "data": {
      "image/png": "[encoded data removed]",
      "text/plain": [
       "<Figure size 432x288 with 1 Axes>"
      ]
     },
     "metadata": {
      "needs_background": "light"
     },
     "output_type": "display_data"
    }
   ],
   "source": [
    "plt.hist(birth_weight.dropna(), bins=30)\n",
    "\n",
    "plt.xlabel('Birth weight in pounds')\n",
    "plt.ylabel('Number of live births')\n",
    "plt.title('Distribution of U.S. birth weight');"
   ]
  },
  {
   "cell_type": "markdown",
   "metadata": {},
   "source": [
    "Pyplot doesn't work with NaNs, so we have to use `dropna`, which makes a new Series that contains only the valid values.\n",
    "\n",
    "The second argument, `bins`, tells `hist` to divide the range of weights into 30 intervals, called \"bins\", and count how many values fall in each bin.\n",
    "\n",
    "The `x` axis is birth weight in pounds, divided into 30 bins.  The `y` axis is the number of births in each bin.  \n",
    "\n",
    "The distribution looks a little like a bell curve, but the tail is longer on the left than on the right; that is, there are more light babies than heavy babies.\n",
    "\n",
    "That makes sense because the distribution includes some babies that were born preterm.  \n",
    "\n",
    "----\n",
    "Pyplot不適用於NaN，因此我們必須使用dropna，這將創建一個僅包含有效值的新Series。\n",
    "\n",
    "第二個參數bins告訴hist將權重範圍劃分為30個間隔，稱為“ bins”，併計算每個bin中有多少個值。\n",
    "\n",
    "該x軸是在磅出生體重，分成30個二進制位。該y軸是在每個箱出生人數。\n",
    "\n",
    "分佈看上去有點像鐘形曲線，但是尾巴的長度比左側長。也就是說，輕嬰兒比重嬰兒多。\n",
    "\n",
    "這是有道理的，因為分佈中包括一些早產兒。"
   ]
  },
  {
   "cell_type": "markdown",
   "metadata": {},
   "source": [
    "**Exercise:** `hist` takes keyword arguments that specify the type and appearance of the histogram.  Find the documentation of `hist` and see if you can figure out how to plot the histogram as an unfilled line.\n",
    "\n",
    "----\n",
    "練習：使用 hist關鍵字參數來指定直方圖的類型和外觀。查找的文檔，hist看看是否可以找出如何將直方圖繪製為未填充的線。\n"
   ]
  },
  {
   "cell_type": "code",
   "execution_count": 33,
   "metadata": {},
   "outputs": [],
   "source": [
    "# Solution goes here"
   ]
  },
  {
   "cell_type": "markdown",
   "metadata": {},
   "source": [
    "**Exercise:** As we saw in a previous exercise, the NSFG dataset includes a column called `agecon` that records age at conception for each pregnancy. \n",
    "\n",
    "- Select this column from the DataFrame, divide by 100 to convert it to years, and assign it to a variable called `agecon`.\n",
    "\n",
    "- Plot the histogram of these values with 20 bins.\n",
    "\n",
    "- Label the `x` and `y` axes appropriately.\n",
    "\n",
    "----\n",
    "\n",
    "練習：正如我們在之前的練習中所看到的那樣，NSFG數據集包括一個名為的列agecon，該列記錄了每次懷孕的受孕年齡。\n",
    "\n",
    "從DataFrame中選擇此列，除以100可將其轉換為年份，然後將其分配給名為的變量agecon。\n",
    "\n",
    "用20個bin繪製這些值的直方圖。\n",
    "\n",
    "適當標記x和y軸。\n"
   ]
  },
  {
   "cell_type": "code",
   "execution_count": 34,
   "metadata": {},
   "outputs": [],
   "source": [
    "# Solution goes here"
   ]
  },
  {
   "cell_type": "markdown",
   "metadata": {},
   "source": [
    "## Boolean series\n",
    "\n",
    "We have seen that the distribution of birth weights is \"skewed to the left\"; that is, there are more light babies than heavy ones and they are farther from the mean.\n",
    "\n",
    "That's because preterm babies tend to be lighter.  The most common duration for pregnancy is 39 weeks, which is \"full term\"; \"preterm\" is usually defined to be less than 37 weeks.\n",
    "\n",
    "To see which babies are preterm, we can use `prglngth`, which records pregnancy length in weeks.\n",
    "\n",
    "To identify babies that were born preterm, we can compare `prglngth` to 37.\n",
    "\n",
    "----\n",
    "\n",
    "布爾序列\n",
    "\n",
    "我們已經看到出生體重的分佈“偏向左側”；也就是說，輕嬰兒比重嬰兒更多，而且距離中位數還遠。\n",
    "\n",
    "那是因為早產兒更輕。最常見的懷孕時間是39週，即“足月”。“早產”通常定義為少於37週。\n",
    "\n",
    "要查看哪些嬰兒早產，我們可以使用prglngth，它記錄以周為單位的懷孕時間。\n",
    "\n",
    "為了確定早產兒，我們可以將其prglngth與37個嬰兒進行比較。\n"
   ]
  },
  {
   "cell_type": "code",
   "execution_count": 35,
   "metadata": {},
   "outputs": [
    {
     "data": {
      "text/plain": [
       "dtype('bool')"
      ]
     },
     "execution_count": 35,
     "metadata": {},
     "output_type": "execute_result"
    }
   ],
   "source": [
    "preterm = (nsfg['prglngth'] < 37)\n",
    "preterm.dtype"
   ]
  },
  {
   "cell_type": "markdown",
   "metadata": {},
   "source": [
    "When you compare a Series to a value, the result is a Boolean Series; that is, each element is a Boolean value, True or False.  In this case, it's True for each preterm baby and False otherwise.  We can use `head` to see the first 5 elements.\n",
    "\n",
    "----\n",
    "將系列與值進行比較時，結果是布爾系列；也就是說，每個元素都是布爾值True或False。在這種情況下，每個早產兒為True，否則為False。我們可以head用來查看前5個元素。\n"
   ]
  },
  {
   "cell_type": "code",
   "execution_count": 36,
   "metadata": {},
   "outputs": [
    {
     "data": {
      "text/plain": [
       "0    False\n",
       "1     True\n",
       "2     True\n",
       "3     True\n",
       "4    False\n",
       "Name: prglngth, dtype: bool"
      ]
     },
     "execution_count": 36,
     "metadata": {},
     "output_type": "execute_result"
    }
   ],
   "source": [
    "preterm.head()"
   ]
  },
  {
   "cell_type": "markdown",
   "metadata": {},
   "source": [
    "If you compute the sum of a Boolean Series, it treats True as 1 and False as 0, so the sum is the number of Trues, which is the number of preterm babies, about 3700.\n",
    "\n",
    "----\n",
    "\n",
    "如果您計算布爾序列的總和，它將True視為1，將False視為0，因此總和為Trues的數量，即早產嬰兒的數量，約為3700。\n"
   ]
  },
  {
   "cell_type": "code",
   "execution_count": 37,
   "metadata": {},
   "outputs": [
    {
     "data": {
      "text/plain": [
       "3742"
      ]
     },
     "execution_count": 37,
     "metadata": {},
     "output_type": "execute_result"
    }
   ],
   "source": [
    "preterm.sum()"
   ]
  },
  {
   "cell_type": "markdown",
   "metadata": {},
   "source": [
    "If you compute the mean, you get the *fraction* of Trues; in this case, it's close to 0.4; that is, the durations of 40% of the pregnancies are less than 37 weeks.\n",
    "\n",
    "----\n",
    "\n",
    "如果您計算平均值，您將獲得True 的分數；在這種情況下，接近0.4；也就是說，40％的懷孕時間少於37週。\n"
   ]
  },
  {
   "cell_type": "code",
   "execution_count": 38,
   "metadata": {},
   "outputs": [
    {
     "data": {
      "text/plain": [
       "0.39987176747168196"
      ]
     },
     "execution_count": 38,
     "metadata": {},
     "output_type": "execute_result"
    }
   ],
   "source": [
    "preterm.mean()"
   ]
  },
  {
   "cell_type": "markdown",
   "metadata": {},
   "source": [
    "However, this result might be misleading because it includes all pregnancy outcomes, not just live births.\n",
    "\n",
    "We can create another Boolean Series to indicate which pregnancies ended in live birth:\n",
    "\n",
    "----\n",
    "但是，此結果可能會產生誤導，因為它包括所有懷孕結果，而不僅僅是活產。\n",
    "\n",
    "我們可以創建另一個布爾系列，以指示哪些妊娠在活產中結束：\n"
   ]
  },
  {
   "cell_type": "code",
   "execution_count": 39,
   "metadata": {},
   "outputs": [
    {
     "data": {
      "text/plain": [
       "0.6934173968796752"
      ]
     },
     "execution_count": 39,
     "metadata": {},
     "output_type": "execute_result"
    }
   ],
   "source": [
    "live = (nsfg['outcome'] == 1)\n",
    "live.mean()"
   ]
  },
  {
   "cell_type": "markdown",
   "metadata": {},
   "source": [
    "Now we can use the logical operator `&` to identify pregnancies where the outcome is a preterm live birth: \n",
    "\n",
    "----\n",
    "現在，我們可以使用邏輯運算符&來識別結果為早產的孕婦：\n"
   ]
  },
  {
   "cell_type": "code",
   "execution_count": 40,
   "metadata": {},
   "outputs": [
    {
     "data": {
      "text/plain": [
       "0.09724300064116265"
      ]
     },
     "execution_count": 40,
     "metadata": {},
     "output_type": "execute_result"
    }
   ],
   "source": [
    "live_preterm = (live & preterm)\n",
    "live_preterm.mean()"
   ]
  },
  {
   "cell_type": "markdown",
   "metadata": {},
   "source": [
    "**Exercise:** Of all live births, what fraction are preterm?\n",
    "\n",
    "----\n",
    "練習：在所有活產嬰兒中，早產佔什麼比例？\n"
   ]
  },
  {
   "cell_type": "code",
   "execution_count": 41,
   "metadata": {},
   "outputs": [],
   "source": [
    "# Solution goes here"
   ]
  },
  {
   "cell_type": "markdown",
   "metadata": {},
   "source": [
    "The other common logical operators are:\n",
    "    \n",
    "* `|`, which is the OR operator; for example `live | preterm` is true if either `live` is true, or `preterm` is true, or both.\n",
    "\n",
    "* `~`, which is the NOT operator; for example `~live` is true if `live` is false or NaN.\n",
    "\n",
    "The logical operators treat NaN the same as False.  So you should be careful about using the NOT operator with a Series that contains NaN values.  \n",
    "\n",
    "For example, `~preterm` would include full term pregnancies, which is probably what you want, and pregnancies with unknown length, which might not be.\n",
    "\n",
    "----\n",
    "\n",
    "其他常見的邏輯運算符是：\n",
    "\n",
    "|，這是OR運算符；例如live | preterm，如果一個live為true，或者preterm為true，或者兩者都為，則為true。\n",
    "\n",
    "~，這是NOT運算符；例如~live，如果live為false或NaN，則為true 。\n",
    "\n",
    "邏輯運算符將NaN與False相同。因此，在將NOT運算符用於包含NaN值的Series時，應格外小心。\n",
    "\n",
    "例如，~preterm將包括可能是您想要的足月妊娠，以及可能不是的未知長度的懷孕。\n",
    "\n",
    "\n"
   ]
  },
  {
   "cell_type": "markdown",
   "metadata": {},
   "source": [
    "**Exercise:** What fraction pregnancies are full term, that is, 37 weeks or more?\n",
    "\n",
    "Of all live births, what fraction are full term?\n",
    "\n",
    "----\n",
    "練習：足月懷孕的比例是多少，即37週或更長時間？\n",
    "\n",
    "在所有活產中，足月的比例是多少？\n"
   ]
  },
  {
   "cell_type": "code",
   "execution_count": 42,
   "metadata": {},
   "outputs": [],
   "source": [
    "# Solution goes here"
   ]
  },
  {
   "cell_type": "code",
   "execution_count": 43,
   "metadata": {},
   "outputs": [],
   "source": [
    "# Solution goes here"
   ]
  },
  {
   "cell_type": "markdown",
   "metadata": {},
   "source": [
    "## Filtering\n",
    "\n",
    "We can use a Boolean Series as a filter; that is, we can select only rows that satisfy a condition or meet some criterion.\n",
    "\n",
    "For example, we can use `preterm` and the bracket operator to select values from `birth_weight`, so `preterm_weight` gets birth weights for preterm babies. \n",
    "\n",
    "----\n",
    "\n",
    "Filtering \n",
    "\n",
    "我們可以使用布爾級數作為過濾器；也就是說，我們只能選擇滿足條件或滿足某些條件的行。\n",
    "\n",
    "例如，我們可以使用preterm和中括號運算符從中選擇值birth_weight，從而preterm_weight獲得早產兒的出生體重。"
   ]
  },
  {
   "cell_type": "code",
   "execution_count": 44,
   "metadata": {},
   "outputs": [
    {
     "data": {
      "text/plain": [
       "5.577598314606742"
      ]
     },
     "execution_count": 44,
     "metadata": {},
     "output_type": "execute_result"
    }
   ],
   "source": [
    "preterm_weight = birth_weight[preterm]\n",
    "preterm_weight.mean()"
   ]
  },
  {
   "cell_type": "markdown",
   "metadata": {},
   "source": [
    "To select full-term babies, we can create a Boolean Series like this:\n",
    "\n",
    "----\n",
    "\n",
    "要選擇足月嬰兒，我們可以創建一個布爾系列，如下所示："
   ]
  },
  {
   "cell_type": "code",
   "execution_count": 45,
   "metadata": {},
   "outputs": [],
   "source": [
    "fullterm = (nsfg['prglngth'] >= 37)"
   ]
  },
  {
   "cell_type": "markdown",
   "metadata": {},
   "source": [
    "And use it to select birth weights for full term babies:\n",
    "\n",
    "----\n",
    "並使用它為足月嬰兒選擇出生體重："
   ]
  },
  {
   "cell_type": "code",
   "execution_count": 46,
   "metadata": {},
   "outputs": [
    {
     "data": {
      "text/plain": [
       "7.372323879231473"
      ]
     },
     "execution_count": 46,
     "metadata": {},
     "output_type": "execute_result"
    }
   ],
   "source": [
    "full_term_weight = birth_weight[fullterm]\n",
    "full_term_weight.mean()"
   ]
  },
  {
   "cell_type": "markdown",
   "metadata": {},
   "source": [
    "As expected, full term babies are heavier, on average, than preterm babies.\n",
    "\n",
    "To be more explicit, we could also limit the results to live births, like this:\n",
    "\n",
    "----\n",
    "正如預期的那樣，足月嬰兒平均要比早產嬰兒重。\n",
    "\n",
    "更明確地說，我們還可以將結果限制為活產，如下所示："
   ]
  },
  {
   "cell_type": "code",
   "execution_count": 47,
   "metadata": {},
   "outputs": [
    {
     "data": {
      "text/plain": [
       "7.372323879231473"
      ]
     },
     "execution_count": 47,
     "metadata": {},
     "output_type": "execute_result"
    }
   ],
   "source": [
    "full_term_weight = birth_weight[live & fullterm]\n",
    "full_term_weight.mean()"
   ]
  },
  {
   "cell_type": "markdown",
   "metadata": {},
   "source": [
    "But in this case it doesn't make a difference because `birth_weight` is only valid for live births.\n",
    "\n",
    "----\n",
    "但是在這種情況下，它沒有什麼區別，因為birth_weight僅適用於活產。\n"
   ]
  },
  {
   "cell_type": "markdown",
   "metadata": {},
   "source": [
    "**Exercise:** Let's see if there is a difference in weight between single births and multiple births (twins, triplets, etc.).\n",
    "\n",
    "The variable `nbrnaliv` represents the number of babies born alive from a pregnancy.  Here's a cleaned version of this variable:\n",
    "\n",
    "----\n",
    "\n",
    "練習：讓我們看看單胎和多胎（雙胞胎，三胞胎等）之間的體重是否存在差異。\n",
    "\n",
    "該變量nbrnaliv表示因懷孕而活著的嬰兒數量。這是此變量的清除版本：\n"
   ]
  },
  {
   "cell_type": "code",
   "execution_count": 48,
   "metadata": {},
   "outputs": [],
   "source": [
    "nbrnaliv_clean = nsfg['nbrnaliv'].replace(8, np.nan)"
   ]
  },
  {
   "cell_type": "markdown",
   "metadata": {},
   "source": [
    "Use `nbrnaliv_clean` and `live` to create a Boolean series called `multiple` that is true for multiple live births.  \n",
    "\n",
    "Of all live births, what fraction are multiple births?\n",
    "\n",
    "----\n",
    "使用nbrnaliv_clean和live創建一個布爾序列multiple，該序列對於多個活產都是正確的。\n",
    "\n",
    "在所有活產中，多胞胎佔什麼比例？"
   ]
  },
  {
   "cell_type": "code",
   "execution_count": 49,
   "metadata": {},
   "outputs": [],
   "source": [
    "# Solution goes here"
   ]
  },
  {
   "cell_type": "code",
   "execution_count": 50,
   "metadata": {},
   "outputs": [],
   "source": [
    "# Solution goes here"
   ]
  },
  {
   "cell_type": "markdown",
   "metadata": {},
   "source": [
    "**Exercise:** Make a Boolean series called `single` that is true for single live births.\n",
    "\n",
    "Of all single births, what fraction are preterm?\n",
    "\n",
    "Of all multiple births, what fraction are preterm?\n",
    "\n",
    "----\n",
    "\n",
    "練習：創建一個布爾序列single，該序列對於單胎活產是正確的。\n",
    "\n",
    "在所有單胎中，早產佔什麼比例？\n",
    "\n",
    "在所有多胞胎中，早產佔什麼比例？\n"
   ]
  },
  {
   "cell_type": "code",
   "execution_count": 51,
   "metadata": {},
   "outputs": [],
   "source": [
    "# Solution goes here"
   ]
  },
  {
   "cell_type": "code",
   "execution_count": 52,
   "metadata": {},
   "outputs": [],
   "source": [
    "# Solution goes here"
   ]
  },
  {
   "cell_type": "code",
   "execution_count": 53,
   "metadata": {},
   "outputs": [],
   "source": [
    "# Solution goes here"
   ]
  },
  {
   "cell_type": "markdown",
   "metadata": {},
   "source": [
    "**Exercise:** What is the average birth weight for live, single, full-term births?\n",
    "\n",
    "----\n",
    "\n",
    "練習：活產，單身和足月分娩的平均出生體重是多少？\n"
   ]
  },
  {
   "cell_type": "code",
   "execution_count": 54,
   "metadata": {},
   "outputs": [],
   "source": [
    "# Solution goes here"
   ]
  },
  {
   "cell_type": "markdown",
   "metadata": {},
   "source": [
    "## Resampling\n",
    "\n",
    "We are almost ready to compute the average birth weight, but there's one more thing we have to do: resampling.\n",
    "\n",
    "The NSFG is not exactly representative of the U.S. population; by design, some groups are more likely to appear in the sample than others; that is, they are \"oversampled\".  Oversampling helps to ensure that you have enough people in every subgroup to get reliable statistics, but it makes the analysis a little more complicated.\n",
    "\n",
    "However, we can correct for oversampling by \"resampling\".  The key is that each pregnancy in the dataset has a \"sampling weight\" that indicates how many pregnancies it represents.  In the `nsfg` DataFrame, the sampling weight is stored in a column named `wgt2013_2015`.\n",
    "\n",
    "Here's what it looks like.\n",
    "\n",
    "----\n",
    "\n",
    "Resampling \n",
    "\n",
    "我們幾乎已經準備好計算平均出生體重，但是我們還要做一件事：重新採樣。\n",
    "\n",
    "NSFG並不完全代表美國人口；根據設計，某些組比其他組更可能出現在樣本中；也就是說，它們被“過度採樣”。過度採樣有助於確保每個子組中都有足夠的人員來獲取可靠的統計信息，但這會使分析更加複雜。\n",
    "\n",
    "但是，我們可以通過“重新採樣”來糾正過度採樣。關鍵是數據集中的每個懷孕都有一個“抽樣權重”，以表明它代表多少次懷孕。在nsfgDataFrame中，採樣權重存儲在名為的列中wgt2013_2015。\n",
    "\n",
    "這是它的樣子。"
   ]
  },
  {
   "cell_type": "code",
   "execution_count": 55,
   "metadata": {},
   "outputs": [
    {
     "data": {
      "text/plain": [
       "count     9358.000000\n",
       "mean     10759.200147\n",
       "std      11400.179222\n",
       "min       1859.105000\n",
       "25%       4340.053407\n",
       "50%       7062.994158\n",
       "75%      12629.322982\n",
       "max      75399.410000\n",
       "Name: wgt2013_2015, dtype: float64"
      ]
     },
     "execution_count": 55,
     "metadata": {},
     "output_type": "execute_result"
    }
   ],
   "source": [
    "nsfg['wgt2013_2015'].describe()"
   ]
  },
  {
   "cell_type": "markdown",
   "metadata": {},
   "source": [
    "The lowest value in this column is about 1859, which means that a pregnancy with that weight represents 1859 total pregnancies in the population.\n",
    "\n",
    "The highest weight is about 75399, which means that this observed pregnancy represents substantially more pregnancies in the population.\n",
    "\n",
    "To take these weights into account, we can resample the DataFrame, which means that we draw a new random sample from the rows in the DataFrame using a weighted sampling process so that rows with higher weights are more likely than rows with lower weights.\n",
    "\n",
    "DataFrame provides a method called `sample` that does what we want:\n",
    "\n",
    "----\n",
    "此列中的最低值是大約1859，這意味著該體重的孕婦代表該人群中總共1859的懷孕。\n",
    "\n",
    "最高體重約為75399，這意味著該觀察到的懷孕代表了人口中更多的懷孕。\n",
    "\n",
    "為了考慮這些權重，我們可以對DataFrame進行重新採樣，這意味著我們將使用加權採樣過程從DataFrame的行中繪製一個新的隨機樣本，以便權重較高的行比權重較低的行更有可能。\n",
    "\n",
    "DataFrame提供了一種稱為的方法sample，可以實現我們想要的功能：\n"
   ]
  },
  {
   "cell_type": "code",
   "execution_count": 56,
   "metadata": {},
   "outputs": [],
   "source": [
    "n = len(nsfg)\n",
    "weights = nsfg['wgt2013_2015']\n",
    "sample = nsfg.sample(n, \n",
    "                     replace=True, \n",
    "                     weights=weights)"
   ]
  },
  {
   "cell_type": "markdown",
   "metadata": {},
   "source": [
    "Here's what the arguments mean:\n",
    "\n",
    "* The size of the sample, `n`, is the same as the size of the DataFrame.\n",
    "\n",
    "* `replace` means that sampling is done \"with replacement\", so some rows appear in the sample more than once and some might not appear at all.\n",
    "\n",
    "* `weights` are used to weight the sampling process, so each rows appears in the sample with frequency proportional to its weight.\n",
    "\n",
    "----\n",
    "\n",
    "這是參數的含義：\n",
    "\n",
    "樣本n的大小與DataFrame的大小相同。\n",
    "\n",
    "replace 表示採樣是“替換完成”的，因此樣本中的某些行會出現多次，而有些則根本不會出現。\n",
    "\n",
    "weights 用於對採樣過程進行加權，因此樣本中的每一行出現的頻率均與其權重成正比。\n"
   ]
  },
  {
   "cell_type": "markdown",
   "metadata": {},
   "source": [
    "**Exercise:** Now let's bring it all together.  To test your recall, try to do this exercise without referring back to previous code.\n",
    "\n",
    "1. From `sample`, extract `birthwgt_lb1` and `birthwgt_oz1` and assign them to `pounds` and `ounces`.\n",
    "\n",
    "2. Clean both variables by replacing `98` and `99` with NaN.\n",
    "\n",
    "3. Compute total birthweight in pounds and display the mean.\n",
    "\n",
    "4. Compute Boolean Series for live, single, and full-term babies.\n",
    "\n",
    "5. Select birthweights for live, single, full-term babies and display their mean weight.\n",
    "\n",
    "----\n",
    "\n",
    "練習：現在，讓我們將它們組合在一起。為了測試您的召回率，請嘗試執行此練習而不參考先前的代碼。\n",
    "\n",
    "從中sample提取birthwgt_lb1並將birthwgt_oz1它們分配給pounds和ounces。\n",
    "\n",
    "通過替換98和99用NaN 清除兩個變量。\n",
    "\n",
    "計算以磅為單位的總出生體重，並顯示平均值。\n",
    "\n",
    "計算活期，單身和足月嬰兒的布爾系列。\n",
    "\n",
    "為活期，單身和足月嬰兒選擇出生體重，並顯示其平均體重。\n"
   ]
  },
  {
   "cell_type": "code",
   "execution_count": 57,
   "metadata": {},
   "outputs": [],
   "source": [
    "# Solution goes here"
   ]
  },
  {
   "cell_type": "code",
   "execution_count": 58,
   "metadata": {},
   "outputs": [],
   "source": [
    "# Solution goes here"
   ]
  },
  {
   "cell_type": "markdown",
   "metadata": {},
   "source": [
    "Most of the time, you will find that the resampled data yields a slightly higher estimate for the average birth weight of single, full-term births in the U.S., compared to the unresampled data.\n",
    "\n",
    "But resampling is a random process, so the results will be slightly different each time you run it.  Later we will see how we can use this variability to quantify the precision of the estimate.\n",
    "\n",
    "----\n",
    "\n",
    "在大多數情況下，您會發現，與未抽樣數據相比，重抽樣數據對美國單身，足月出生的平均出生體重的估計值稍高。\n",
    "\n",
    "但是重採樣是一個隨機過程，因此每次運行時結果都會略有不同。稍後我們將看到如何使用這種可變性來量化估計的精度。\n"
   ]
  },
  {
   "cell_type": "code",
   "execution_count": null,
   "metadata": {},
   "outputs": [],
   "source": []
  }
 ],
 "metadata": {
  "kernelspec": {
   "display_name": "Python 3",
   "language": "python",
   "name": "python3"
  },
  "language_info": {
   "codemirror_mode": {
    "name": "ipython",
    "version": 3
   },
   "file_extension": ".py",
   "mimetype": "text/x-python",
   "name": "python",
   "nbconvert_exporter": "python",
   "pygments_lexer": "ipython3",
   "version": "3.7.4"
  },
  "latex_envs": {
   "LaTeX_envs_menu_present": true,
   "autoclose": false,
   "autocomplete": true,
   "bibliofile": "biblio.bib",
   "cite_by": "apalike",
   "current_citInitial": 1,
   "eqLabelWithNumbers": true,
   "eqNumInitial": 1,
   "hotkeys": {
    "equation": "Ctrl-E",
    "itemize": "Ctrl-I"
   },
   "labels_anchors": false,
   "latex_user_defs": false,
   "report_style_numbering": false,
   "user_envs_cfg": false
  },
  "nbTranslate": {
   "displayLangs": [
    "zh-TW",
    "en"
   ],
   "hotkey": "alt-t",
   "langInMainMenu": true,
   "sourceLang": "en",
   "targetLang": "zh-TW",
   "useGoogleTranslate": true
  },
  "toc": {
   "base_numbering": 1,
   "nav_menu": {},
   "number_sections": true,
   "sideBar": true,
   "skip_h1_title": false,
   "title_cell": "Table of Contents",
   "title_sidebar": "Contents",
   "toc_cell": false,
   "toc_position": {},
   "toc_section_display": true,
   "toc_window_display": false
  },
  "varInspector": {
   "cols": {
    "lenName": 16,
    "lenType": 16,
    "lenVar": 40
   },
   "kernels_config": {
    "python": {
     "delete_cmd_postfix": "",
     "delete_cmd_prefix": "del ",
     "library": "var_list.py",
     "varRefreshCmd": "print(var_dic_list())"
    },
    "r": {
     "delete_cmd_postfix": ") ",
     "delete_cmd_prefix": "rm(",
     "library": "var_list.r",
     "varRefreshCmd": "cat(var_dic_list()) "
    }
   },
   "types_to_exclude": [
    "module",
    "function",
    "builtin_function_or_method",
    "instance",
    "_Feature"
   ],
   "window_display": false
  }
 },
 "nbformat": 4,
 "nbformat_minor": 2
}
