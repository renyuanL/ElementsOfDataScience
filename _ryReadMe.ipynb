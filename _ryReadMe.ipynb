{
 "cells": [
  {
   "cell_type": "markdown",
   "metadata": {},
   "source": [
    "# Introduction\n",
    "\n",
    "originated by `Allen Downey`\n",
    "\n",
    "*Elements of Data Science* is an introduction to data science in Python for people with no programming experience.  My goal is to present a small, powerful subset of Python that allows you to do real work in data science as quickly as possible.  \n",
    "\n",
    "At the same time, I want to make sure the material is presented clearly.  I don't assume that the reader knows anything about programming, statistics, or data science.  When I use a term, I try to define it immediately, and when I use a programming feature, I try to explain it.\n",
    "\n",
    "There are a few places where I use a programming feature before it is fully explained, but I keep them to a minimum, and I'll let you know what you don't need to know.\n",
    "\n",
    "This \"book\" is in the form of Jupyter notebooks.  Jupyter is a software development tool you can run in a web browser, so you don't have to install any software.  A Jupyter notebook is a document that contains text, Python code, and results.  So you can read it like a book, but you can also modify the code, run it, develop new programs, and test them.\n",
    "\n",
    "The notebooks contains exercises where you can practice what you learn.  Most of the exercises are meant to be quick, but a few are more substantial.\n",
    "\n",
    "This material is a work in progress, so suggestions are welcome.  The best way to provide feedback is to [click here and create an issue in this GitHub repository](https://github.com/AllenDowney/ElementsOfDataScience/issues)."
   ]
  },
  {
   "cell_type": "markdown",
   "metadata": {},
   "source": [
    "## The notebooks\n",
    "\n",
    "For each of the notebooks below, you have 3 options: if you view the notebook on `Github`, you can read it, but you can't run the code.  If you run the notebook on `Colab`, you'll be able to run the code, do the exercises, and save your modified version of the notebook in a Google Drive (if you have one). At last, you can run it on your `local host` machine, if you can sucessfully install the Jupyter environment.\n",
    "\n"
   ]
  },
  {
   "cell_type": "markdown",
   "metadata": {
    "heading_collapsed": true
   },
   "source": [
    "### Notebook 1\n",
    "\n",
    "**Variables and values**: The first notebook explains how to use Jupyter and introduces the most basic programming features in Python, variables and values.\n",
    "\n",
    "\n",
    "[`Localhost`](./01_variables.ipynb)\n",
    "[`Github`](https://github.com/RenyuanL/ElementsOfDataScience/blob/master/01_variables.ipynb)\n",
    "[`Colab`](https://colab.research.google.com/github/RenyuanL/ElementsOfDataScience/blob/master/01_variables.ipynb)\n",
    "\n",
    "\n",
    "\n"
   ]
  },
  {
   "cell_type": "markdown",
   "metadata": {},
   "source": [
    "### Notebook 2\n",
    "\n",
    "**Times and places**: This notebook shows how to represent times, dates, and locations in Python, and uses the GeoPandas library to plot points on a map.\n",
    "\n",
    "[`Localhost`](./02_times.ipynb)\n",
    "[`Github`](https://github.com/RenyuanL/ElementsOfDataScience/blob/master/02_times.ipynb)\n",
    "[`Colab`](https://colab.research.google.com/github/RenyuanL/ElementsOfDataScience/blob/master/02_times.ipynb)\n"
   ]
  },
  {
   "cell_type": "markdown",
   "metadata": {
    "heading_collapsed": true
   },
   "source": [
    "### Notebook 3\n",
    "\n",
    "**Lists and Arrays**: This notebook presents lists and NumPy arrays.  It discusses absolute, relative, and percent errors, and ways to summarize them.\n",
    "\n",
    "[`Localhost`](./03_arrays.ipynb)\n",
    "[`Github`](https://github.com/RenyuanL/ElementsOfDataScience/blob/master/03_arrays.ipynb)\n",
    "[`Colab`](https://colab.research.google.com/github/RenyuanL/ElementsOfDataScience/blob/master/03_arrays.ipynb)\n",
    "\n"
   ]
  },
  {
   "cell_type": "markdown",
   "metadata": {
    "heading_collapsed": true
   },
   "source": [
    "### Notebook 4\n",
    "\n",
    "**Loops and Files**: This notebook presents the `for` loop and the `if` statement; then it uses them to speed-read *War and Peace* and count the words.\n",
    "\n",
    "[`Localhost`](./04_loops.ipynb)\n",
    "[`Github`](https://github.com/RenyuanL/ElementsOfDataScience/blob/master/04_loops.ipynb)\n",
    "[`Colab`](https://colab.research.google.com/github/RenyuanL/ElementsOfDataScience/blob/master/04_loops.ipynb)\n",
    "\n"
   ]
  },
  {
   "cell_type": "markdown",
   "metadata": {
    "heading_collapsed": true
   },
   "source": [
    "### Notebook 5\n",
    "\n",
    "**Dictionaries**: This notebook presents one of the most powerful features of Python, dictionaries, and uses them to count the unique words in *War and Peace*.\n",
    "\n",
    "[`Localhost`](./05_dictionaries.ipynb)\n",
    "[`Github`](https://github.com/RenyuanL/ElementsOfDataScience/blob/master/05_dictionaries.ipynb)\n",
    "[`Colab`](https://colab.research.google.com/github/RenyuanL/ElementsOfDataScience/blob/master/05_dictionaries.ipynb)\n",
    "\n"
   ]
  },
  {
   "cell_type": "markdown",
   "metadata": {
    "heading_collapsed": true
   },
   "source": [
    "### Notebook 6\n",
    "\n",
    "**Plotting**: This notebook introduces Matplotlib, a plotting library for Python, and uses it to generate a few common data visualizations and one less common one, a Zipf plot.\n",
    "\n",
    "[`Localhost`](./06_plotting.ipynb)\n",
    "[`Github`](https://github.com/RenyuanL/ElementsOfDataScience/blob/master/06_plotting.ipynb)\n",
    "[`Colab`](https://colab.research.google.com/github/RenyuanL/ElementsOfDataScience/blob/master/06_plotting.ipynb)\n",
    "\n"
   ]
  },
  {
   "cell_type": "markdown",
   "metadata": {
    "heading_collapsed": true
   },
   "source": [
    "### Notebook 7\n",
    "\n",
    "**DataFrames**: This notebook presents DataFrames, which are used to represent tables of data.  And it uses data from the National Survey of Family Growth to find the average weight of babies in the U.S.\n",
    "\n",
    "[`Localhost`](./07_dataframes_ry.ipynb)\n",
    "[`Github`](https://github.com/RenyuanL/ElementsOfDataScience/blob/master/07_dataframes_ry.ipynb)\n",
    "[`Colab`](https://colab.research.google.com/github/RenyuanL/ElementsOfDataScience/blob/master/07_dataframes_ry.ipynb)\n",
    "\n"
   ]
  },
  {
   "cell_type": "markdown",
   "metadata": {
    "heading_collapsed": true
   },
   "source": [
    "### Notebook 8\n",
    "\n",
    "**Distributions**: This notebook explains what a distribution is and presents 3 ways to represent a distribution: a PMF, CDF, or PDF.  It also shows how to compare a distribution to another distribution or a mathematical model.\n",
    "\n",
    "[`Localhost`](./08_distributions.ipynb)\n",
    "[`Github`](https://github.com/RenyuanL/ElementsOfDataScience/blob/master/08_distributions.ipynb)\n",
    "[`Colab`](https://colab.research.google.com/github/RenyuanL/ElementsOfDataScience/blob/master/08_distributions.ipynb)\n",
    "\n"
   ]
  },
  {
   "cell_type": "markdown",
   "metadata": {
    "heading_collapsed": true
   },
   "source": [
    "### Notebook 9\n",
    "\n",
    "**Relationships**: This notebook explores relationships between variables using scatter plots, violin plots, and box plots.  It quantifies the strength of a relationship using the correlation coefficient and uses simple regression to estimate the slope of a line.\n",
    "\n",
    "[`Localhost`](./09_relationships.ipynb)\n",
    "[`Github`](https://github.com/RenyuanL/ElementsOfDataScience/blob/master/09_relationships.ipynb)\n",
    "[`Colab`](https://colab.research.google.com/github/RenyuanL/ElementsOfDataScience/blob/master/09_relationships.ipynb)\n",
    "\n"
   ]
  },
  {
   "cell_type": "markdown",
   "metadata": {
    "heading_collapsed": true
   },
   "source": [
    "### Notebook 10\n",
    "\n",
    "**Regression**: This notebook presents multiple regression and uses it to explore the relationship between age, eduction, and income.  It uses visualization to interpret multivariate models.  It also presents binary variables and logistic regression.\n",
    "\n",
    "[`Localhost`](./10_regression.ipynb)\n",
    "[`Github`](https://github.com/RenyuanL/ElementsOfDataScience/blob/master/10_regression.ipynb)\n",
    "[`Colab`](https://colab.research.google.com/github/RenyuanL/ElementsOfDataScience/blob/master/10_regression.ipynb)\n",
    "\n"
   ]
  },
  {
   "cell_type": "markdown",
   "metadata": {},
   "source": [
    "### Notebook 11\n",
    "\n",
    "**Inference**: This notebook presents computational inference, a process for computing p-values, standard errors, and confidence intervals using randomization methods rather than analysis.\n",
    "\n",
    "[`Localhost`](./11_inference.ipynb)\n",
    "[`Github`](https://github.com/RenyuanL/ElementsOfDataScience/blob/master/11_inference.ipynb)\n",
    "[`Colab`](https://colab.research.google.com/github/RenyuanL/ElementsOfDataScience/blob/master/11_inference.ipynb)\n",
    "\n"
   ]
  },
  {
   "cell_type": "code",
   "execution_count": null,
   "metadata": {},
   "outputs": [],
   "source": []
  }
 ],
 "metadata": {
  "kernelspec": {
   "display_name": "Python 3",
   "language": "python",
   "name": "python3"
  },
  "language_info": {
   "codemirror_mode": {
    "name": "ipython",
    "version": 3
   },
   "file_extension": ".py",
   "mimetype": "text/x-python",
   "name": "python",
   "nbconvert_exporter": "python",
   "pygments_lexer": "ipython3",
   "version": "3.7.4"
  },
  "latex_envs": {
   "LaTeX_envs_menu_present": true,
   "autoclose": false,
   "autocomplete": true,
   "bibliofile": "biblio.bib",
   "cite_by": "apalike",
   "current_citInitial": 1,
   "eqLabelWithNumbers": true,
   "eqNumInitial": 1,
   "hotkeys": {
    "equation": "Ctrl-E",
    "itemize": "Ctrl-I"
   },
   "labels_anchors": false,
   "latex_user_defs": false,
   "report_style_numbering": false,
   "user_envs_cfg": false
  },
  "nbTranslate": {
   "displayLangs": [
    "zh-TW",
    "en"
   ],
   "hotkey": "alt-t",
   "langInMainMenu": true,
   "sourceLang": "en",
   "targetLang": "zh-TW",
   "useGoogleTranslate": true
  },
  "toc": {
   "base_numbering": 1,
   "nav_menu": {},
   "number_sections": false,
   "sideBar": true,
   "skip_h1_title": false,
   "title_cell": "Table of Contents",
   "title_sidebar": "Contents",
   "toc_cell": false,
   "toc_position": {
    "height": "calc(100% - 180px)",
    "left": "10px",
    "top": "150px",
    "width": "165px"
   },
   "toc_section_display": true,
   "toc_window_display": true
  },
  "varInspector": {
   "cols": {
    "lenName": 16,
    "lenType": 16,
    "lenVar": 40
   },
   "kernels_config": {
    "python": {
     "delete_cmd_postfix": "",
     "delete_cmd_prefix": "del ",
     "library": "var_list.py",
     "varRefreshCmd": "print(var_dic_list())"
    },
    "r": {
     "delete_cmd_postfix": ") ",
     "delete_cmd_prefix": "rm(",
     "library": "var_list.r",
     "varRefreshCmd": "cat(var_dic_list()) "
    }
   },
   "types_to_exclude": [
    "module",
    "function",
    "builtin_function_or_method",
    "instance",
    "_Feature"
   ],
   "window_display": false
  }
 },
 "nbformat": 4,
 "nbformat_minor": 2
}
