{
 "cells": [
  {
   "cell_type": "markdown",
   "metadata": {},
   "source": [
    "# Exploratory Data Analysis\n",
    "\n",
    "Preparing the BRFSS dataset\n",
    "\n",
    "Allen Downey\n",
    "\n",
    "[MIT License](https://en.wikipedia.org/wiki/MIT_License)"
   ]
  },
  {
   "cell_type": "code",
   "execution_count": 1,
   "metadata": {},
   "outputs": [],
   "source": [
    "# If we're running on Colab, install empiricaldist\n",
    "# https://pypi.org/project/empiricaldist/\n",
    "\n",
    "import sys\n",
    "IN_COLAB = 'google.colab' in sys.modules\n",
    "\n",
    "if IN_COLAB:\n",
    "    !pip install empiricaldist"
   ]
  },
  {
   "cell_type": "code",
   "execution_count": 2,
   "metadata": {},
   "outputs": [],
   "source": [
    "import pandas as pd\n",
    "import numpy as np\n",
    "\n",
    "import matplotlib.pyplot as plt\n",
    "import seaborn as sns\n",
    "\n",
    "from empiricaldist import Pmf, Cdf"
   ]
  },
  {
   "cell_type": "markdown",
   "metadata": {},
   "source": [
    "## Loading and validation\n"
   ]
  },
  {
   "cell_type": "code",
   "execution_count": 3,
   "metadata": {},
   "outputs": [],
   "source": [
    "# Get the data file\n",
    "\n",
    "import os\n",
    "\n",
    "if not os.path.exists('LLCP2017ASC.zip'):\n",
    "    !wget https://www.cdc.gov/brfss/annual_data/2017/files/LLCP2017ASC.zip"
   ]
  },
  {
   "cell_type": "code",
   "execution_count": 4,
   "metadata": {},
   "outputs": [
    {
     "data": {
      "text/plain": [
       "1"
      ]
     },
     "execution_count": 4,
     "metadata": {},
     "output_type": "execute_result"
    }
   ],
   "source": [
    "url16 = 'https://www.cdc.gov/brfss/annual_data/2016/LLCP_VarLayout_16_OneColumn.html'\n",
    "url17 = 'https://www.cdc.gov/brfss/annual_data/2017/llcp_varlayout_17_onecolumn.html'\n",
    "\n",
    "tables = pd.read_html(url17)\n",
    "len(tables)"
   ]
  },
  {
   "cell_type": "code",
   "execution_count": 5,
   "metadata": {},
   "outputs": [
    {
     "data": {
      "text/html": [
       "<div>\n",
       "<style scoped>\n",
       "    .dataframe tbody tr th:only-of-type {\n",
       "        vertical-align: middle;\n",
       "    }\n",
       "\n",
       "    .dataframe tbody tr th {\n",
       "        vertical-align: top;\n",
       "    }\n",
       "\n",
       "    .dataframe thead th {\n",
       "        text-align: right;\n",
       "    }\n",
       "</style>\n",
       "<table border=\"1\" class=\"dataframe\">\n",
       "  <thead>\n",
       "    <tr style=\"text-align: right;\">\n",
       "      <th></th>\n",
       "      <th>Starting Column</th>\n",
       "      <th>Variable Name</th>\n",
       "      <th>Field Length</th>\n",
       "    </tr>\n",
       "    <tr>\n",
       "      <th>Variable Name</th>\n",
       "      <th></th>\n",
       "      <th></th>\n",
       "      <th></th>\n",
       "    </tr>\n",
       "  </thead>\n",
       "  <tbody>\n",
       "    <tr>\n",
       "      <th>_STATE</th>\n",
       "      <td>1</td>\n",
       "      <td>_STATE</td>\n",
       "      <td>2</td>\n",
       "    </tr>\n",
       "    <tr>\n",
       "      <th>FMONTH</th>\n",
       "      <td>17</td>\n",
       "      <td>FMONTH</td>\n",
       "      <td>2</td>\n",
       "    </tr>\n",
       "    <tr>\n",
       "      <th>IDATE</th>\n",
       "      <td>19</td>\n",
       "      <td>IDATE</td>\n",
       "      <td>8</td>\n",
       "    </tr>\n",
       "    <tr>\n",
       "      <th>IMONTH</th>\n",
       "      <td>19</td>\n",
       "      <td>IMONTH</td>\n",
       "      <td>2</td>\n",
       "    </tr>\n",
       "    <tr>\n",
       "      <th>IDAY</th>\n",
       "      <td>21</td>\n",
       "      <td>IDAY</td>\n",
       "      <td>2</td>\n",
       "    </tr>\n",
       "    <tr>\n",
       "      <th>...</th>\n",
       "      <td>...</td>\n",
       "      <td>...</td>\n",
       "      <td>...</td>\n",
       "    </tr>\n",
       "    <tr>\n",
       "      <th>_RFSEAT2</th>\n",
       "      <td>2204</td>\n",
       "      <td>_RFSEAT2</td>\n",
       "      <td>1</td>\n",
       "    </tr>\n",
       "    <tr>\n",
       "      <th>_RFSEAT3</th>\n",
       "      <td>2205</td>\n",
       "      <td>_RFSEAT3</td>\n",
       "      <td>1</td>\n",
       "    </tr>\n",
       "    <tr>\n",
       "      <th>_FLSHOT6</th>\n",
       "      <td>2206</td>\n",
       "      <td>_FLSHOT6</td>\n",
       "      <td>1</td>\n",
       "    </tr>\n",
       "    <tr>\n",
       "      <th>_PNEUMO2</th>\n",
       "      <td>2207</td>\n",
       "      <td>_PNEUMO2</td>\n",
       "      <td>1</td>\n",
       "    </tr>\n",
       "    <tr>\n",
       "      <th>_AIDTST3</th>\n",
       "      <td>2208</td>\n",
       "      <td>_AIDTST3</td>\n",
       "      <td>1</td>\n",
       "    </tr>\n",
       "  </tbody>\n",
       "</table>\n",
       "<p>358 rows × 3 columns</p>\n",
       "</div>"
      ],
      "text/plain": [
       "               Starting Column Variable Name  Field Length\n",
       "Variable Name                                             \n",
       "_STATE                       1        _STATE             2\n",
       "FMONTH                      17        FMONTH             2\n",
       "IDATE                       19         IDATE             8\n",
       "IMONTH                      19        IMONTH             2\n",
       "IDAY                        21          IDAY             2\n",
       "...                        ...           ...           ...\n",
       "_RFSEAT2                  2204      _RFSEAT2             1\n",
       "_RFSEAT3                  2205      _RFSEAT3             1\n",
       "_FLSHOT6                  2206      _FLSHOT6             1\n",
       "_PNEUMO2                  2207      _PNEUMO2             1\n",
       "_AIDTST3                  2208      _AIDTST3             1\n",
       "\n",
       "[358 rows x 3 columns]"
      ]
     },
     "execution_count": 5,
     "metadata": {},
     "output_type": "execute_result"
    }
   ],
   "source": [
    "layout = tables[0]\n",
    "layout.index = layout['Variable Name']\n",
    "layout"
   ]
  },
  {
   "cell_type": "code",
   "execution_count": 6,
   "metadata": {},
   "outputs": [],
   "source": [
    "names = [ 'SEX', 'HTM4', 'WTKG3', 'INCOME2', '_LLCPWT' , '_AGEG5YR', '_VEGESU1']"
   ]
  },
  {
   "cell_type": "code",
   "execution_count": 7,
   "metadata": {},
   "outputs": [
    {
     "data": {
      "text/plain": [
       "[(124, 125),\n",
       " (2036, 2039),\n",
       " (2039, 2044),\n",
       " (179, 181),\n",
       " (1797, 1807),\n",
       " (2027, 2029),\n",
       " (2102, 2108)]"
      ]
     },
     "execution_count": 7,
     "metadata": {},
     "output_type": "execute_result"
    }
   ],
   "source": [
    "colspecs = []\n",
    "for name in names:\n",
    "    start, _, length = layout.loc[name]\n",
    "    colspecs.append((start-1, start+length-1))\n",
    "    \n",
    "colspecs"
   ]
  },
  {
   "cell_type": "code",
   "execution_count": 8,
   "metadata": {},
   "outputs": [
    {
     "data": {
      "text/html": [
       "<div>\n",
       "<style scoped>\n",
       "    .dataframe tbody tr th:only-of-type {\n",
       "        vertical-align: middle;\n",
       "    }\n",
       "\n",
       "    .dataframe tbody tr th {\n",
       "        vertical-align: top;\n",
       "    }\n",
       "\n",
       "    .dataframe thead th {\n",
       "        text-align: right;\n",
       "    }\n",
       "</style>\n",
       "<table border=\"1\" class=\"dataframe\">\n",
       "  <thead>\n",
       "    <tr style=\"text-align: right;\">\n",
       "      <th></th>\n",
       "      <th>SEX</th>\n",
       "      <th>HTM4</th>\n",
       "      <th>WTKG3</th>\n",
       "      <th>INCOME2</th>\n",
       "      <th>_LLCPWT</th>\n",
       "      <th>_AGEG5YR</th>\n",
       "      <th>_VEGESU1</th>\n",
       "    </tr>\n",
       "  </thead>\n",
       "  <tbody>\n",
       "    <tr>\n",
       "      <th>0</th>\n",
       "      <td>2</td>\n",
       "      <td>165.0</td>\n",
       "      <td>7348.0</td>\n",
       "      <td>6.0</td>\n",
       "      <td>79.425947</td>\n",
       "      <td>11</td>\n",
       "      <td>171.0</td>\n",
       "    </tr>\n",
       "    <tr>\n",
       "      <th>1</th>\n",
       "      <td>1</td>\n",
       "      <td>180.0</td>\n",
       "      <td>9571.0</td>\n",
       "      <td>8.0</td>\n",
       "      <td>89.694580</td>\n",
       "      <td>10</td>\n",
       "      <td>200.0</td>\n",
       "    </tr>\n",
       "    <tr>\n",
       "      <th>2</th>\n",
       "      <td>1</td>\n",
       "      <td>188.0</td>\n",
       "      <td>8845.0</td>\n",
       "      <td>99.0</td>\n",
       "      <td>440.121376</td>\n",
       "      <td>11</td>\n",
       "      <td>57.0</td>\n",
       "    </tr>\n",
       "    <tr>\n",
       "      <th>3</th>\n",
       "      <td>2</td>\n",
       "      <td>170.0</td>\n",
       "      <td>7711.0</td>\n",
       "      <td>1.0</td>\n",
       "      <td>194.867164</td>\n",
       "      <td>11</td>\n",
       "      <td>NaN</td>\n",
       "    </tr>\n",
       "    <tr>\n",
       "      <th>4</th>\n",
       "      <td>2</td>\n",
       "      <td>165.0</td>\n",
       "      <td>6350.0</td>\n",
       "      <td>2.0</td>\n",
       "      <td>169.087888</td>\n",
       "      <td>10</td>\n",
       "      <td>48.0</td>\n",
       "    </tr>\n",
       "  </tbody>\n",
       "</table>\n",
       "</div>"
      ],
      "text/plain": [
       "   SEX   HTM4   WTKG3  INCOME2     _LLCPWT  _AGEG5YR  _VEGESU1\n",
       "0    2  165.0  7348.0      6.0   79.425947        11     171.0\n",
       "1    1  180.0  9571.0      8.0   89.694580        10     200.0\n",
       "2    1  188.0  8845.0     99.0  440.121376        11      57.0\n",
       "3    2  170.0  7711.0      1.0  194.867164        11       NaN\n",
       "4    2  165.0  6350.0      2.0  169.087888        10      48.0"
      ]
     },
     "execution_count": 8,
     "metadata": {},
     "output_type": "execute_result"
    }
   ],
   "source": [
    "filename16 = 'LLCP2016ASC.zip'\n",
    "filename17 = 'LLCP2017ASC.zip'\n",
    "\n",
    "brfss = pd.read_fwf(filename17,\n",
    "                    colspecs=colspecs, \n",
    "                    names=names,\n",
    "                    compression='zip',\n",
    "                    nrows=None)\n",
    "\n",
    "brfss.head()"
   ]
  },
  {
   "cell_type": "code",
   "execution_count": 9,
   "metadata": {},
   "outputs": [
    {
     "data": {
      "text/plain": [
       "(450016, 7)"
      ]
     },
     "execution_count": 9,
     "metadata": {},
     "output_type": "execute_result"
    }
   ],
   "source": [
    "brfss.shape"
   ]
  },
  {
   "cell_type": "code",
   "execution_count": 10,
   "metadata": {},
   "outputs": [
    {
     "data": {
      "text/plain": [
       "1    198725\n",
       "2    251007\n",
       "9       284\n",
       "Name: SEX, dtype: int64"
      ]
     },
     "execution_count": 10,
     "metadata": {},
     "output_type": "execute_result"
    }
   ],
   "source": [
    "brfss['SEX'].value_counts().sort_index()"
   ]
  },
  {
   "cell_type": "code",
   "execution_count": 11,
   "metadata": {},
   "outputs": [],
   "source": [
    "brfss['SEX'].replace([9], np.nan, inplace=True)"
   ]
  },
  {
   "cell_type": "code",
   "execution_count": 12,
   "metadata": {},
   "outputs": [
    {
     "data": {
      "text/plain": [
       "1.0      18346\n",
       "2.0      19334\n",
       "3.0      27735\n",
       "4.0      34222\n",
       "5.0      39751\n",
       "6.0      53148\n",
       "7.0      59632\n",
       "8.0     122763\n",
       "77.0     33328\n",
       "99.0     38426\n",
       "Name: INCOME2, dtype: int64"
      ]
     },
     "execution_count": 12,
     "metadata": {},
     "output_type": "execute_result"
    }
   ],
   "source": [
    "brfss['INCOME2'].value_counts().sort_index()"
   ]
  },
  {
   "cell_type": "code",
   "execution_count": 13,
   "metadata": {},
   "outputs": [],
   "source": [
    "brfss['INCOME2'].replace([77, 99], np.nan, inplace=True)"
   ]
  },
  {
   "cell_type": "code",
   "execution_count": 14,
   "metadata": {},
   "outputs": [
    {
     "data": {
      "text/plain": [
       "count    420145.000000\n",
       "mean         81.586719\n",
       "std          20.701024\n",
       "min          22.680000\n",
       "25%          67.590000\n",
       "50%          79.380000\n",
       "75%          91.630000\n",
       "max         275.000000\n",
       "Name: WTKG3, dtype: float64"
      ]
     },
     "execution_count": 14,
     "metadata": {},
     "output_type": "execute_result"
    }
   ],
   "source": [
    "brfss['WTKG3'] /= 100\n",
    "brfss['WTKG3'].describe()"
   ]
  },
  {
   "cell_type": "code",
   "execution_count": 15,
   "metadata": {},
   "outputs": [
    {
     "data": {
      "text/plain": [
       "202748    22.68\n",
       "218895    22.68\n",
       "246312    22.68\n",
       "420587    22.68\n",
       "446610    22.68\n",
       "385527    23.13\n",
       "99318     24.04\n",
       "299845    24.04\n",
       "173461    24.49\n",
       "112834    24.95\n",
       "Name: WTKG3, dtype: float64"
      ]
     },
     "execution_count": 15,
     "metadata": {},
     "output_type": "execute_result"
    }
   ],
   "source": [
    "weight = brfss['WTKG3']\n",
    "weight.nsmallest(10)"
   ]
  },
  {
   "cell_type": "code",
   "execution_count": 16,
   "metadata": {},
   "outputs": [
    {
     "data": {
      "text/plain": [
       "78560     275.00\n",
       "155453    273.97\n",
       "35729     272.61\n",
       "70531     272.16\n",
       "111021    272.16\n",
       "220908    272.16\n",
       "221451    272.16\n",
       "229302    272.16\n",
       "279941    272.16\n",
       "305983    272.16\n",
       "Name: WTKG3, dtype: float64"
      ]
     },
     "execution_count": 16,
     "metadata": {},
     "output_type": "execute_result"
    }
   ],
   "source": [
    "weight.nlargest(10)"
   ]
  },
  {
   "cell_type": "code",
   "execution_count": 17,
   "metadata": {},
   "outputs": [
    {
     "data": {
      "text/plain": [
       "18101     91.0\n",
       "28286     91.0\n",
       "126276    91.0\n",
       "270173    91.0\n",
       "351342    91.0\n",
       "363762    91.0\n",
       "368934    91.0\n",
       "385478    91.0\n",
       "384489    94.0\n",
       "269650    97.0\n",
       "Name: HTM4, dtype: float64"
      ]
     },
     "execution_count": 17,
     "metadata": {},
     "output_type": "execute_result"
    }
   ],
   "source": [
    "height = brfss['HTM4']\n",
    "height.nsmallest(10)"
   ]
  },
  {
   "cell_type": "code",
   "execution_count": 18,
   "metadata": {},
   "outputs": [
    {
     "data": {
      "text/plain": [
       "134893    236.0\n",
       "230559    231.0\n",
       "113037    226.0\n",
       "148519    226.0\n",
       "265919    226.0\n",
       "294762    226.0\n",
       "372189    226.0\n",
       "38054     224.0\n",
       "51866     224.0\n",
       "271351    224.0\n",
       "Name: HTM4, dtype: float64"
      ]
     },
     "execution_count": 18,
     "metadata": {},
     "output_type": "execute_result"
    }
   ],
   "source": [
    "height.nlargest(10)"
   ]
  },
  {
   "cell_type": "code",
   "execution_count": 19,
   "metadata": {},
   "outputs": [
    {
     "data": {
      "text/plain": [
       "count    433572.000000\n",
       "mean        169.821863\n",
       "std          10.614508\n",
       "min          91.000000\n",
       "25%         163.000000\n",
       "50%         170.000000\n",
       "75%         178.000000\n",
       "max         236.000000\n",
       "Name: HTM4, dtype: float64"
      ]
     },
     "execution_count": 19,
     "metadata": {},
     "output_type": "execute_result"
    }
   ],
   "source": [
    "brfss['HTM4'].describe()"
   ]
  },
  {
   "cell_type": "code",
   "execution_count": 20,
   "metadata": {},
   "outputs": [
    {
     "data": {
      "text/plain": [
       "count    450016.000000\n",
       "mean        568.098034\n",
       "std        1119.545360\n",
       "min           0.131624\n",
       "25%          91.499675\n",
       "50%         237.083009\n",
       "75%         592.876546\n",
       "max       45053.592700\n",
       "Name: _LLCPWT, dtype: float64"
      ]
     },
     "execution_count": 20,
     "metadata": {},
     "output_type": "execute_result"
    }
   ],
   "source": [
    "brfss['_LLCPWT'].describe()"
   ]
  },
  {
   "cell_type": "code",
   "execution_count": 21,
   "metadata": {},
   "outputs": [
    {
     "data": {
      "text/plain": [
       "count    450016.000000\n",
       "mean          7.747962\n",
       "std           3.557474\n",
       "min           1.000000\n",
       "25%           5.000000\n",
       "50%           8.000000\n",
       "75%          11.000000\n",
       "max          14.000000\n",
       "Name: _AGEG5YR, dtype: float64"
      ]
     },
     "execution_count": 21,
     "metadata": {},
     "output_type": "execute_result"
    }
   ],
   "source": [
    "brfss['_AGEG5YR'].describe()"
   ]
  },
  {
   "cell_type": "code",
   "execution_count": 22,
   "metadata": {},
   "outputs": [
    {
     "data": {
      "text/plain": [
       "1     26233\n",
       "2     22388\n",
       "3     24799\n",
       "4     26297\n",
       "5     25300\n",
       "6     30134\n",
       "7     37149\n",
       "8     45124\n",
       "9     49974\n",
       "10    50020\n",
       "11    41399\n",
       "12    29269\n",
       "13    35829\n",
       "14     6101\n",
       "Name: _AGEG5YR, dtype: int64"
      ]
     },
     "execution_count": 22,
     "metadata": {},
     "output_type": "execute_result"
    }
   ],
   "source": [
    "brfss['_AGEG5YR'].value_counts().sort_index()"
   ]
  },
  {
   "cell_type": "code",
   "execution_count": 23,
   "metadata": {},
   "outputs": [],
   "source": [
    "brfss['_AGEG5YR'].replace([14], np.nan, inplace=True)"
   ]
  },
  {
   "cell_type": "code",
   "execution_count": 24,
   "metadata": {},
   "outputs": [],
   "source": [
    "brfss['_VEGESU1'] /= 100"
   ]
  },
  {
   "cell_type": "code",
   "execution_count": 25,
   "metadata": {},
   "outputs": [
    {
     "data": {
      "image/png": "[encoded data removed]",
      "text/plain": [
       "<Figure size 432x288 with 1 Axes>"
      ]
     },
     "metadata": {
      "needs_background": "light"
     },
     "output_type": "display_data"
    }
   ],
   "source": [
    "Pmf.from_seq(brfss['_VEGESU1']).plot()"
   ]
  },
  {
   "cell_type": "code",
   "execution_count": 26,
   "metadata": {},
   "outputs": [],
   "source": [
    "bogus = brfss['_VEGESU1'] > 15\n",
    "brfss.loc[bogus, '_VEGESU1'] = np.nan"
   ]
  },
  {
   "cell_type": "code",
   "execution_count": 27,
   "metadata": {},
   "outputs": [
    {
     "data": {
      "text/plain": [
       "count    401574.000000\n",
       "mean          1.973119\n",
       "std           1.288144\n",
       "min           0.000000\n",
       "25%           1.180000\n",
       "50%           1.720000\n",
       "75%           2.430000\n",
       "max          15.000000\n",
       "Name: _VEGESU1, dtype: float64"
      ]
     },
     "execution_count": 27,
     "metadata": {},
     "output_type": "execute_result"
    }
   ],
   "source": [
    "brfss['_VEGESU1'].describe()"
   ]
  },
  {
   "cell_type": "markdown",
   "metadata": {},
   "source": [
    "Add a height group column"
   ]
  },
  {
   "cell_type": "code",
   "execution_count": 28,
   "metadata": {},
   "outputs": [],
   "source": [
    "bins = np.arange(0, height.max(), 10)\n",
    "brfss['_HTMG10'] = pd.cut(brfss['HTM4'], bins=bins, labels=bins[:-1]).astype(float)"
   ]
  },
  {
   "cell_type": "code",
   "execution_count": 29,
   "metadata": {},
   "outputs": [
    {
     "data": {
      "text/plain": [
       "dtype('float64')"
      ]
     },
     "execution_count": 29,
     "metadata": {},
     "output_type": "execute_result"
    }
   ],
   "source": [
    "brfss._HTMG10.dtype"
   ]
  },
  {
   "cell_type": "code",
   "execution_count": 30,
   "metadata": {},
   "outputs": [],
   "source": [
    "lower = np.arange(15, 85, 5)\n",
    "upper = lower + 4"
   ]
  },
  {
   "cell_type": "code",
   "execution_count": 31,
   "metadata": {},
   "outputs": [
    {
     "data": {
      "text/plain": [
       "0     15\n",
       "1     18\n",
       "2     25\n",
       "3     30\n",
       "4     35\n",
       "5     40\n",
       "6     45\n",
       "7     50\n",
       "8     55\n",
       "9     60\n",
       "10    65\n",
       "11    70\n",
       "12    75\n",
       "13    80\n",
       "dtype: int64"
      ]
     },
     "execution_count": 31,
     "metadata": {},
     "output_type": "execute_result"
    }
   ],
   "source": [
    "lower[1]= 18\n",
    "lower = pd.Series(lower, index=range(len(lower)))\n",
    "lower"
   ]
  },
  {
   "cell_type": "code",
   "execution_count": 32,
   "metadata": {},
   "outputs": [
    {
     "data": {
      "text/plain": [
       "0     19\n",
       "1     24\n",
       "2     29\n",
       "3     34\n",
       "4     39\n",
       "5     44\n",
       "6     49\n",
       "7     54\n",
       "8     59\n",
       "9     64\n",
       "10    69\n",
       "11    74\n",
       "12    79\n",
       "13    99\n",
       "dtype: int64"
      ]
     },
     "execution_count": 32,
     "metadata": {},
     "output_type": "execute_result"
    }
   ],
   "source": [
    "upper[-1] = 99\n",
    "upper = pd.Series(upper, index=range(len(upper)))\n",
    "upper"
   ]
  },
  {
   "cell_type": "code",
   "execution_count": 33,
   "metadata": {},
   "outputs": [
    {
     "data": {
      "text/plain": [
       "0     17.0\n",
       "1     21.0\n",
       "2     27.0\n",
       "3     32.0\n",
       "4     37.0\n",
       "5     42.0\n",
       "6     47.0\n",
       "7     52.0\n",
       "8     57.0\n",
       "9     62.0\n",
       "10    67.0\n",
       "11    72.0\n",
       "12    77.0\n",
       "13    89.5\n",
       "dtype: float64"
      ]
     },
     "execution_count": 33,
     "metadata": {},
     "output_type": "execute_result"
    }
   ],
   "source": [
    "midpoint = (lower + upper) / 2\n",
    "midpoint"
   ]
  },
  {
   "cell_type": "code",
   "execution_count": 34,
   "metadata": {},
   "outputs": [],
   "source": [
    "age_code = brfss['_AGEG5YR']"
   ]
  },
  {
   "cell_type": "code",
   "execution_count": 35,
   "metadata": {},
   "outputs": [
    {
     "data": {
      "text/plain": [
       "count    443915.000000\n",
       "mean         55.856424\n",
       "std          18.646029\n",
       "min          21.000000\n",
       "25%          42.000000\n",
       "50%          57.000000\n",
       "75%          67.000000\n",
       "max          89.500000\n",
       "Name: AGE, dtype: float64"
      ]
     },
     "execution_count": 35,
     "metadata": {},
     "output_type": "execute_result"
    }
   ],
   "source": [
    "brfss['AGE'] = midpoint[age_code].values\n",
    "brfss['AGE'].describe()"
   ]
  },
  {
   "cell_type": "code",
   "execution_count": 36,
   "metadata": {},
   "outputs": [],
   "source": [
    "def randint(lower, upper):\n",
    "    for low, high in zip(lower, upper+1):\n",
    "        try:\n",
    "            yield np.random.randint(low, high)\n",
    "        except ValueError:\n",
    "            yield np.nan"
   ]
  },
  {
   "cell_type": "markdown",
   "metadata": {},
   "source": [
    "##  Resample"
   ]
  },
  {
   "cell_type": "code",
   "execution_count": 37,
   "metadata": {},
   "outputs": [],
   "source": [
    "from utils import resample_rows_weighted\n",
    "\n",
    "np.random.seed(17)\n",
    "sample = resample_rows_weighted(brfss, '_LLCPWT')[:100000]"
   ]
  },
  {
   "cell_type": "code",
   "execution_count": 38,
   "metadata": {},
   "outputs": [
    {
     "data": {
      "text/html": [
       "<div>\n",
       "<style scoped>\n",
       "    .dataframe tbody tr th:only-of-type {\n",
       "        vertical-align: middle;\n",
       "    }\n",
       "\n",
       "    .dataframe tbody tr th {\n",
       "        vertical-align: top;\n",
       "    }\n",
       "\n",
       "    .dataframe thead th {\n",
       "        text-align: right;\n",
       "    }\n",
       "</style>\n",
       "<table border=\"1\" class=\"dataframe\">\n",
       "  <thead>\n",
       "    <tr style=\"text-align: right;\">\n",
       "      <th></th>\n",
       "      <th>SEX</th>\n",
       "      <th>HTM4</th>\n",
       "      <th>WTKG3</th>\n",
       "      <th>INCOME2</th>\n",
       "      <th>_LLCPWT</th>\n",
       "      <th>_AGEG5YR</th>\n",
       "      <th>_VEGESU1</th>\n",
       "      <th>_HTMG10</th>\n",
       "      <th>AGE</th>\n",
       "    </tr>\n",
       "  </thead>\n",
       "  <tbody>\n",
       "    <tr>\n",
       "      <th>96230</th>\n",
       "      <td>2.0</td>\n",
       "      <td>160.0</td>\n",
       "      <td>60.33</td>\n",
       "      <td>8.0</td>\n",
       "      <td>1398.525290</td>\n",
       "      <td>6.0</td>\n",
       "      <td>2.14</td>\n",
       "      <td>150.0</td>\n",
       "      <td>47.0</td>\n",
       "    </tr>\n",
       "    <tr>\n",
       "      <th>244920</th>\n",
       "      <td>2.0</td>\n",
       "      <td>163.0</td>\n",
       "      <td>58.97</td>\n",
       "      <td>5.0</td>\n",
       "      <td>84.057503</td>\n",
       "      <td>13.0</td>\n",
       "      <td>3.14</td>\n",
       "      <td>160.0</td>\n",
       "      <td>89.5</td>\n",
       "    </tr>\n",
       "    <tr>\n",
       "      <th>57312</th>\n",
       "      <td>2.0</td>\n",
       "      <td>163.0</td>\n",
       "      <td>72.57</td>\n",
       "      <td>8.0</td>\n",
       "      <td>390.248599</td>\n",
       "      <td>5.0</td>\n",
       "      <td>2.64</td>\n",
       "      <td>160.0</td>\n",
       "      <td>42.0</td>\n",
       "    </tr>\n",
       "    <tr>\n",
       "      <th>32573</th>\n",
       "      <td>2.0</td>\n",
       "      <td>165.0</td>\n",
       "      <td>74.84</td>\n",
       "      <td>1.0</td>\n",
       "      <td>11566.705300</td>\n",
       "      <td>3.0</td>\n",
       "      <td>1.46</td>\n",
       "      <td>160.0</td>\n",
       "      <td>32.0</td>\n",
       "    </tr>\n",
       "    <tr>\n",
       "      <th>355929</th>\n",
       "      <td>2.0</td>\n",
       "      <td>170.0</td>\n",
       "      <td>108.86</td>\n",
       "      <td>3.0</td>\n",
       "      <td>844.485450</td>\n",
       "      <td>3.0</td>\n",
       "      <td>1.81</td>\n",
       "      <td>160.0</td>\n",
       "      <td>32.0</td>\n",
       "    </tr>\n",
       "    <tr>\n",
       "      <th>305424</th>\n",
       "      <td>2.0</td>\n",
       "      <td>160.0</td>\n",
       "      <td>72.57</td>\n",
       "      <td>NaN</td>\n",
       "      <td>509.733354</td>\n",
       "      <td>13.0</td>\n",
       "      <td>1.60</td>\n",
       "      <td>150.0</td>\n",
       "      <td>89.5</td>\n",
       "    </tr>\n",
       "    <tr>\n",
       "      <th>302232</th>\n",
       "      <td>1.0</td>\n",
       "      <td>NaN</td>\n",
       "      <td>NaN</td>\n",
       "      <td>NaN</td>\n",
       "      <td>1657.213620</td>\n",
       "      <td>8.0</td>\n",
       "      <td>2.14</td>\n",
       "      <td>NaN</td>\n",
       "      <td>57.0</td>\n",
       "    </tr>\n",
       "    <tr>\n",
       "      <th>283720</th>\n",
       "      <td>2.0</td>\n",
       "      <td>152.0</td>\n",
       "      <td>108.86</td>\n",
       "      <td>8.0</td>\n",
       "      <td>3640.241970</td>\n",
       "      <td>2.0</td>\n",
       "      <td>2.36</td>\n",
       "      <td>150.0</td>\n",
       "      <td>27.0</td>\n",
       "    </tr>\n",
       "    <tr>\n",
       "      <th>26440</th>\n",
       "      <td>1.0</td>\n",
       "      <td>178.0</td>\n",
       "      <td>68.04</td>\n",
       "      <td>2.0</td>\n",
       "      <td>473.325486</td>\n",
       "      <td>6.0</td>\n",
       "      <td>1.00</td>\n",
       "      <td>170.0</td>\n",
       "      <td>47.0</td>\n",
       "    </tr>\n",
       "    <tr>\n",
       "      <th>125041</th>\n",
       "      <td>1.0</td>\n",
       "      <td>188.0</td>\n",
       "      <td>125.65</td>\n",
       "      <td>1.0</td>\n",
       "      <td>522.403225</td>\n",
       "      <td>7.0</td>\n",
       "      <td>1.57</td>\n",
       "      <td>180.0</td>\n",
       "      <td>52.0</td>\n",
       "    </tr>\n",
       "  </tbody>\n",
       "</table>\n",
       "</div>"
      ],
      "text/plain": [
       "        SEX   HTM4   WTKG3  INCOME2       _LLCPWT  _AGEG5YR  _VEGESU1  \\\n",
       "96230   2.0  160.0   60.33      8.0   1398.525290       6.0      2.14   \n",
       "244920  2.0  163.0   58.97      5.0     84.057503      13.0      3.14   \n",
       "57312   2.0  163.0   72.57      8.0    390.248599       5.0      2.64   \n",
       "32573   2.0  165.0   74.84      1.0  11566.705300       3.0      1.46   \n",
       "355929  2.0  170.0  108.86      3.0    844.485450       3.0      1.81   \n",
       "305424  2.0  160.0   72.57      NaN    509.733354      13.0      1.60   \n",
       "302232  1.0    NaN     NaN      NaN   1657.213620       8.0      2.14   \n",
       "283720  2.0  152.0  108.86      8.0   3640.241970       2.0      2.36   \n",
       "26440   1.0  178.0   68.04      2.0    473.325486       6.0      1.00   \n",
       "125041  1.0  188.0  125.65      1.0    522.403225       7.0      1.57   \n",
       "\n",
       "        _HTMG10   AGE  \n",
       "96230     150.0  47.0  \n",
       "244920    160.0  89.5  \n",
       "57312     160.0  42.0  \n",
       "32573     160.0  32.0  \n",
       "355929    160.0  32.0  \n",
       "305424    150.0  89.5  \n",
       "302232      NaN  57.0  \n",
       "283720    150.0  27.0  \n",
       "26440     170.0  47.0  \n",
       "125041    180.0  52.0  "
      ]
     },
     "execution_count": 38,
     "metadata": {},
     "output_type": "execute_result"
    }
   ],
   "source": [
    "sample.head(10)"
   ]
  },
  {
   "cell_type": "code",
   "execution_count": 39,
   "metadata": {},
   "outputs": [],
   "source": [
    "!rm brfss.hdf5"
   ]
  },
  {
   "cell_type": "code",
   "execution_count": 40,
   "metadata": {},
   "outputs": [],
   "source": [
    "sample.to_hdf('brfss.hdf5', 'brfss')"
   ]
  },
  {
   "cell_type": "code",
   "execution_count": 41,
   "metadata": {},
   "outputs": [
    {
     "name": "stdout",
     "output_type": "stream",
     "text": [
      "CPU times: user 20.9 ms, sys: 48 µs, total: 21 ms\n",
      "Wall time: 20 ms\n"
     ]
    }
   ],
   "source": [
    "%time brfss = pd.read_hdf('brfss.hdf5', 'brfss')"
   ]
  },
  {
   "cell_type": "code",
   "execution_count": 42,
   "metadata": {},
   "outputs": [
    {
     "data": {
      "text/plain": [
       "(100000, 9)"
      ]
     },
     "execution_count": 42,
     "metadata": {},
     "output_type": "execute_result"
    }
   ],
   "source": [
    "brfss.shape"
   ]
  },
  {
   "cell_type": "code",
   "execution_count": 43,
   "metadata": {},
   "outputs": [
    {
     "data": {
      "text/html": [
       "<div>\n",
       "<style scoped>\n",
       "    .dataframe tbody tr th:only-of-type {\n",
       "        vertical-align: middle;\n",
       "    }\n",
       "\n",
       "    .dataframe tbody tr th {\n",
       "        vertical-align: top;\n",
       "    }\n",
       "\n",
       "    .dataframe thead th {\n",
       "        text-align: right;\n",
       "    }\n",
       "</style>\n",
       "<table border=\"1\" class=\"dataframe\">\n",
       "  <thead>\n",
       "    <tr style=\"text-align: right;\">\n",
       "      <th></th>\n",
       "      <th>SEX</th>\n",
       "      <th>HTM4</th>\n",
       "      <th>WTKG3</th>\n",
       "      <th>INCOME2</th>\n",
       "      <th>_LLCPWT</th>\n",
       "      <th>_AGEG5YR</th>\n",
       "      <th>_VEGESU1</th>\n",
       "      <th>_HTMG10</th>\n",
       "      <th>AGE</th>\n",
       "    </tr>\n",
       "  </thead>\n",
       "  <tbody>\n",
       "    <tr>\n",
       "      <th>96230</th>\n",
       "      <td>2.0</td>\n",
       "      <td>160.0</td>\n",
       "      <td>60.33</td>\n",
       "      <td>8.0</td>\n",
       "      <td>1398.525290</td>\n",
       "      <td>6.0</td>\n",
       "      <td>2.14</td>\n",
       "      <td>150.0</td>\n",
       "      <td>47.0</td>\n",
       "    </tr>\n",
       "    <tr>\n",
       "      <th>244920</th>\n",
       "      <td>2.0</td>\n",
       "      <td>163.0</td>\n",
       "      <td>58.97</td>\n",
       "      <td>5.0</td>\n",
       "      <td>84.057503</td>\n",
       "      <td>13.0</td>\n",
       "      <td>3.14</td>\n",
       "      <td>160.0</td>\n",
       "      <td>89.5</td>\n",
       "    </tr>\n",
       "    <tr>\n",
       "      <th>57312</th>\n",
       "      <td>2.0</td>\n",
       "      <td>163.0</td>\n",
       "      <td>72.57</td>\n",
       "      <td>8.0</td>\n",
       "      <td>390.248599</td>\n",
       "      <td>5.0</td>\n",
       "      <td>2.64</td>\n",
       "      <td>160.0</td>\n",
       "      <td>42.0</td>\n",
       "    </tr>\n",
       "    <tr>\n",
       "      <th>32573</th>\n",
       "      <td>2.0</td>\n",
       "      <td>165.0</td>\n",
       "      <td>74.84</td>\n",
       "      <td>1.0</td>\n",
       "      <td>11566.705300</td>\n",
       "      <td>3.0</td>\n",
       "      <td>1.46</td>\n",
       "      <td>160.0</td>\n",
       "      <td>32.0</td>\n",
       "    </tr>\n",
       "    <tr>\n",
       "      <th>355929</th>\n",
       "      <td>2.0</td>\n",
       "      <td>170.0</td>\n",
       "      <td>108.86</td>\n",
       "      <td>3.0</td>\n",
       "      <td>844.485450</td>\n",
       "      <td>3.0</td>\n",
       "      <td>1.81</td>\n",
       "      <td>160.0</td>\n",
       "      <td>32.0</td>\n",
       "    </tr>\n",
       "  </tbody>\n",
       "</table>\n",
       "</div>"
      ],
      "text/plain": [
       "        SEX   HTM4   WTKG3  INCOME2       _LLCPWT  _AGEG5YR  _VEGESU1  \\\n",
       "96230   2.0  160.0   60.33      8.0   1398.525290       6.0      2.14   \n",
       "244920  2.0  163.0   58.97      5.0     84.057503      13.0      3.14   \n",
       "57312   2.0  163.0   72.57      8.0    390.248599       5.0      2.64   \n",
       "32573   2.0  165.0   74.84      1.0  11566.705300       3.0      1.46   \n",
       "355929  2.0  170.0  108.86      3.0    844.485450       3.0      1.81   \n",
       "\n",
       "        _HTMG10   AGE  \n",
       "96230     150.0  47.0  \n",
       "244920    160.0  89.5  \n",
       "57312     160.0  42.0  \n",
       "32573     160.0  32.0  \n",
       "355929    160.0  32.0  "
      ]
     },
     "execution_count": 43,
     "metadata": {},
     "output_type": "execute_result"
    }
   ],
   "source": [
    "brfss.head()"
   ]
  },
  {
   "cell_type": "code",
   "execution_count": 44,
   "metadata": {},
   "outputs": [
    {
     "data": {
      "text/html": [
       "<div>\n",
       "<style scoped>\n",
       "    .dataframe tbody tr th:only-of-type {\n",
       "        vertical-align: middle;\n",
       "    }\n",
       "\n",
       "    .dataframe tbody tr th {\n",
       "        vertical-align: top;\n",
       "    }\n",
       "\n",
       "    .dataframe thead th {\n",
       "        text-align: right;\n",
       "    }\n",
       "</style>\n",
       "<table border=\"1\" class=\"dataframe\">\n",
       "  <thead>\n",
       "    <tr style=\"text-align: right;\">\n",
       "      <th></th>\n",
       "      <th>SEX</th>\n",
       "      <th>HTM4</th>\n",
       "      <th>WTKG3</th>\n",
       "      <th>INCOME2</th>\n",
       "      <th>_LLCPWT</th>\n",
       "      <th>_AGEG5YR</th>\n",
       "      <th>_VEGESU1</th>\n",
       "      <th>_HTMG10</th>\n",
       "      <th>AGE</th>\n",
       "    </tr>\n",
       "  </thead>\n",
       "  <tbody>\n",
       "    <tr>\n",
       "      <th>count</th>\n",
       "      <td>99938.000000</td>\n",
       "      <td>95143.000000</td>\n",
       "      <td>93404.000000</td>\n",
       "      <td>83447.000000</td>\n",
       "      <td>100000.000000</td>\n",
       "      <td>98794.000000</td>\n",
       "      <td>87713.000000</td>\n",
       "      <td>95143.000000</td>\n",
       "      <td>98794.000000</td>\n",
       "    </tr>\n",
       "    <tr>\n",
       "      <th>mean</th>\n",
       "      <td>1.513809</td>\n",
       "      <td>170.090443</td>\n",
       "      <td>81.202017</td>\n",
       "      <td>5.788656</td>\n",
       "      <td>2785.881001</td>\n",
       "      <td>6.103296</td>\n",
       "      <td>1.926845</td>\n",
       "      <td>163.915369</td>\n",
       "      <td>47.720732</td>\n",
       "    </tr>\n",
       "    <tr>\n",
       "      <th>std</th>\n",
       "      <td>0.499812</td>\n",
       "      <td>10.795080</td>\n",
       "      <td>20.945679</td>\n",
       "      <td>2.229189</td>\n",
       "      <td>3982.612684</td>\n",
       "      <td>3.601652</td>\n",
       "      <td>1.290404</td>\n",
       "      <td>11.297379</td>\n",
       "      <td>18.873769</td>\n",
       "    </tr>\n",
       "    <tr>\n",
       "      <th>min</th>\n",
       "      <td>1.000000</td>\n",
       "      <td>91.000000</td>\n",
       "      <td>23.130000</td>\n",
       "      <td>1.000000</td>\n",
       "      <td>5.774036</td>\n",
       "      <td>1.000000</td>\n",
       "      <td>0.000000</td>\n",
       "      <td>90.000000</td>\n",
       "      <td>21.000000</td>\n",
       "    </tr>\n",
       "    <tr>\n",
       "      <th>25%</th>\n",
       "      <td>1.000000</td>\n",
       "      <td>163.000000</td>\n",
       "      <td>66.220000</td>\n",
       "      <td>4.000000</td>\n",
       "      <td>579.932564</td>\n",
       "      <td>3.000000</td>\n",
       "      <td>1.140000</td>\n",
       "      <td>160.000000</td>\n",
       "      <td>32.000000</td>\n",
       "    </tr>\n",
       "    <tr>\n",
       "      <th>50%</th>\n",
       "      <td>2.000000</td>\n",
       "      <td>170.000000</td>\n",
       "      <td>78.930000</td>\n",
       "      <td>6.000000</td>\n",
       "      <td>1378.138470</td>\n",
       "      <td>6.000000</td>\n",
       "      <td>1.700000</td>\n",
       "      <td>160.000000</td>\n",
       "      <td>47.000000</td>\n",
       "    </tr>\n",
       "    <tr>\n",
       "      <th>75%</th>\n",
       "      <td>2.000000</td>\n",
       "      <td>178.000000</td>\n",
       "      <td>90.720000</td>\n",
       "      <td>8.000000</td>\n",
       "      <td>3202.380370</td>\n",
       "      <td>9.000000</td>\n",
       "      <td>2.410000</td>\n",
       "      <td>170.000000</td>\n",
       "      <td>62.000000</td>\n",
       "    </tr>\n",
       "    <tr>\n",
       "      <th>max</th>\n",
       "      <td>2.000000</td>\n",
       "      <td>226.000000</td>\n",
       "      <td>272.610000</td>\n",
       "      <td>8.000000</td>\n",
       "      <td>45053.592700</td>\n",
       "      <td>13.000000</td>\n",
       "      <td>15.000000</td>\n",
       "      <td>220.000000</td>\n",
       "      <td>89.500000</td>\n",
       "    </tr>\n",
       "  </tbody>\n",
       "</table>\n",
       "</div>"
      ],
      "text/plain": [
       "                SEX          HTM4         WTKG3       INCOME2        _LLCPWT  \\\n",
       "count  99938.000000  95143.000000  93404.000000  83447.000000  100000.000000   \n",
       "mean       1.513809    170.090443     81.202017      5.788656    2785.881001   \n",
       "std        0.499812     10.795080     20.945679      2.229189    3982.612684   \n",
       "min        1.000000     91.000000     23.130000      1.000000       5.774036   \n",
       "25%        1.000000    163.000000     66.220000      4.000000     579.932564   \n",
       "50%        2.000000    170.000000     78.930000      6.000000    1378.138470   \n",
       "75%        2.000000    178.000000     90.720000      8.000000    3202.380370   \n",
       "max        2.000000    226.000000    272.610000      8.000000   45053.592700   \n",
       "\n",
       "           _AGEG5YR      _VEGESU1       _HTMG10           AGE  \n",
       "count  98794.000000  87713.000000  95143.000000  98794.000000  \n",
       "mean       6.103296      1.926845    163.915369     47.720732  \n",
       "std        3.601652      1.290404     11.297379     18.873769  \n",
       "min        1.000000      0.000000     90.000000     21.000000  \n",
       "25%        3.000000      1.140000    160.000000     32.000000  \n",
       "50%        6.000000      1.700000    160.000000     47.000000  \n",
       "75%        9.000000      2.410000    170.000000     62.000000  \n",
       "max       13.000000     15.000000    220.000000     89.500000  "
      ]
     },
     "execution_count": 44,
     "metadata": {},
     "output_type": "execute_result"
    }
   ],
   "source": [
    "brfss.describe()"
   ]
  },
  {
   "cell_type": "code",
   "execution_count": null,
   "metadata": {},
   "outputs": [],
   "source": []
  },
  {
   "cell_type": "code",
   "execution_count": null,
   "metadata": {},
   "outputs": [],
   "source": []
  }
 ],
 "metadata": {
  "kernelspec": {
   "display_name": "Python 3",
   "language": "python",
   "name": "python3"
  },
  "language_info": {
   "codemirror_mode": {
    "name": "ipython",
    "version": 3
   },
   "file_extension": ".py",
   "mimetype": "text/x-python",
   "name": "python",
   "nbconvert_exporter": "python",
   "pygments_lexer": "ipython3",
   "version": "3.7.6"
  }
 },
 "nbformat": 4,
 "nbformat_minor": 1
}
