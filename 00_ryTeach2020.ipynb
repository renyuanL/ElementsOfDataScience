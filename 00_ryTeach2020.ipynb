{
 "cells": [
  {
   "cell_type": "markdown",
   "metadata": {
    "lang": "zh-TW"
   },
   "source": [
    "【Home】\n",
    "[`Local`](./00_ryTeach2020.ipynb)\n",
    "[`Github`](https://github.com/RenyuanL/ElementsOfDataScience/blob/master/00_ryTeach2020.ipynb)\n",
    "[`Colab`](https://colab.research.google.com/github/RenyuanL/ElementsOfDataScience/blob/master/00_ryTeach2020.ipynb)\n"
   ]
  },
  {
   "cell_type": "markdown",
   "metadata": {
    "lang": "zh-TW"
   },
   "source": [
    "# ryTeach2020\n",
    "\n",
    "呂仁園 (Renyuan Lyu)"
   ]
  },
  {
   "cell_type": "markdown",
   "metadata": {
    "lang": "zh-TW"
   },
   "source": [
    "本課程採用Jupyter筆記本(.ipynb)的形式。 \n",
    "Jupyter是一種軟體開發工具，\n",
    "除了可免費在網路上下載安裝之您自己的電腦之後，\n",
    "使用本地端的Web瀏覽器進行瀏覽之外，\n",
    "您也可以在利用Web瀏覽器在雲端的免費主機中運行。\n",
    "\n",
    "Jupyter筆記本是一個包含文本、Python代碼和結果的文檔。\n",
    "因此，您可以像讀一本書一樣閱讀它；\n",
    "但您也可以修改代碼，運行它，開發新程式並進行測試。\n",
    "\n",
    "筆記本包含練習，您可以在其中練習所學的內容。\n",
    "大多數練習都可快速進行，但有也有一些更接近實務，\n",
    "需花點時間來解決。\n",
    "\n",
    "本課程教材正在開發之中，歡迎提出建議。\n",
    "\n",
    "請搜尋 FaceBook 社團名稱 ryTeach2020，加入社團，\n",
    "我們將在該處發表通知，以及與各位同學互動。"
   ]
  },
  {
   "cell_type": "markdown",
   "metadata": {
    "lang": "zh-TW"
   },
   "source": [
    "教學內容除了在 ryTeach2020 臉書社團公告之外，\n",
    "\n",
    "00. [ryTeach2020 臉書社團](https://www.facebook.com/groups/1068502653528219/)\n",
    "\n",
    "也可直接到 Github: renyuanL 之教學網頁瀏覽。\n",
    "\n",
    "01. [呂仁園老師的Github](https://github.com/renyuanL)\n",
    "02. [機率與統計](https://github.com/renyuanL/_ryProb2020)\n",
    "03. [訊號與系統 / DSP](https://github.com/renyuanL/_ryDsp2020)\n",
    "\n",
    "學期開始的電腦環境預備：\n",
    "\n",
    "01. [本機端的 Jupyter 軟體環境安裝。](https://www.anaconda.com/)\n",
    "02. [雲端 Google Colab 網址。](https://colab.research.google.com)"
   ]
  },
  {
   "cell_type": "markdown",
   "metadata": {
    "lang": "zh-TW"
   },
   "source": [
    "## 筆記本目錄"
   ]
  },
  {
   "cell_type": "markdown",
   "metadata": {
    "lang": "zh-TW"
   },
   "source": [
    "對於本課程的每個筆記本，都有 3 個選項：\n",
    "\n",
    "- 如果在`Github`上查看筆記本，則只能閱讀，但不能運行代碼。\n",
    "- 如果您在`Colab`上運行筆記本，則可以運行代碼，進行練習，然後將筆記本的修改版本保存在Google雲端硬盤中（如果你有登入Google帳號的話）。\n",
    "- 如果可以成功安裝Jupyter環境，則可以在`Local`(本地主機)上運行它，當然任何修改、儲存都是很方便的。"
   ]
  },
  {
   "cell_type": "markdown",
   "metadata": {
    "lang": "zh-TW"
   },
   "source": [
    "### 筆記本 01"
   ]
  },
  {
   "cell_type": "markdown",
   "metadata": {
    "lang": "zh-TW"
   },
   "source": [
    "**變數和數值**：第一個筆記本介紹如何使用Jupyter，並介紹Python中最基本的程式功能，變數(variable)和數值(value)。\n",
    "\n",
    "[`Local`](./01_variables.ipynb)\n",
    "[`Github`](https://github.com/RenyuanL/ElementsOfDataScience/blob/master/01_variables.ipynb)\n",
    "[`Colab`](https://colab.research.google.com/github/RenyuanL/ElementsOfDataScience/blob/master/01_variables.ipynb)\n"
   ]
  },
  {
   "cell_type": "markdown",
   "metadata": {},
   "source": [
    "\n",
    "[video001](http://somup.com/cYnUX1huXy)\n"
   ]
  },
  {
   "cell_type": "code",
   "execution_count": null,
   "metadata": {},
   "outputs": [],
   "source": []
  }
 ],
 "metadata": {
  "hide_input": false,
  "kernelspec": {
   "display_name": "Python 3",
   "language": "python",
   "name": "python3"
  },
  "language_info": {
   "codemirror_mode": {
    "name": "ipython",
    "version": 3
   },
   "file_extension": ".py",
   "mimetype": "text/x-python",
   "name": "python",
   "nbconvert_exporter": "python",
   "pygments_lexer": "ipython3",
   "version": "3.7.4"
  },
  "latex_envs": {
   "LaTeX_envs_menu_present": true,
   "autoclose": false,
   "autocomplete": true,
   "bibliofile": "biblio.bib",
   "cite_by": "apalike",
   "current_citInitial": 1,
   "eqLabelWithNumbers": true,
   "eqNumInitial": 1,
   "hotkeys": {
    "equation": "Ctrl-E",
    "itemize": "Ctrl-I"
   },
   "labels_anchors": false,
   "latex_user_defs": false,
   "report_style_numbering": false,
   "user_envs_cfg": false
  },
  "nbTranslate": {
   "displayLangs": [
    "en",
    "zh-TW"
   ],
   "hotkey": "alt-t",
   "langInMainMenu": true,
   "sourceLang": "en",
   "targetLang": "zh-TW",
   "useGoogleTranslate": true
  },
  "toc": {
   "base_numbering": 1,
   "nav_menu": {},
   "number_sections": false,
   "sideBar": true,
   "skip_h1_title": false,
   "title_cell": "Table of Contents",
   "title_sidebar": "Contents",
   "toc_cell": false,
   "toc_position": {
    "height": "calc(100% - 180px)",
    "left": "10px",
    "top": "150px",
    "width": "165px"
   },
   "toc_section_display": true,
   "toc_window_display": false
  },
  "varInspector": {
   "cols": {
    "lenName": 16,
    "lenType": 16,
    "lenVar": 40
   },
   "kernels_config": {
    "python": {
     "delete_cmd_postfix": "",
     "delete_cmd_prefix": "del ",
     "library": "var_list.py",
     "varRefreshCmd": "print(var_dic_list())"
    },
    "r": {
     "delete_cmd_postfix": ") ",
     "delete_cmd_prefix": "rm(",
     "library": "var_list.r",
     "varRefreshCmd": "cat(var_dic_list()) "
    }
   },
   "types_to_exclude": [
    "module",
    "function",
    "builtin_function_or_method",
    "instance",
    "_Feature"
   ],
   "window_display": false
  }
 },
 "nbformat": 4,
 "nbformat_minor": 2
}
